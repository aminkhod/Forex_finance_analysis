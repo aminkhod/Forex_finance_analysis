{
 "cells": [
  {
   "cell_type": "code",
   "execution_count": 22,
   "metadata": {},
   "outputs": [
    {
     "name": "stderr",
     "output_type": "stream",
     "text": [
      "c:\\program files\\python36\\lib\\site-packages\\sklearn\\linear_model\\logistic.py:433: FutureWarning: Default solver will be changed to 'lbfgs' in 0.22. Specify a solver to silence this warning.\n",
      "  FutureWarning)\n"
     ]
    },
    {
     "name": "stdout",
     "output_type": "stream",
     "text": [
      "[[0.50941636 0.49058364]\n",
      " [0.5034478  0.4965522 ]\n",
      " [0.50960595 0.49039405]\n",
      " ...\n",
      " [0.50268285 0.49731715]\n",
      " [0.50214624 0.49785376]\n",
      " [0.49808383 0.50191617]]\n",
      "[[167 488]\n",
      " [145 465]]\n"
     ]
    },
    {
     "data": {
      "image/png": "[encoded data removed]",
      "text/plain": [
       "<Figure size 432x288 with 2 Axes>"
      ]
     },
     "metadata": {
      "needs_background": "light"
     },
     "output_type": "display_data"
    },
    {
     "name": "stdout",
     "output_type": "stream",
     "text": [
      "Accuracy: 0.49960474308300395\n"
     ]
    },
    {
     "data": {
      "image/png": "[encoded data removed]",
      "text/plain": [
       "<Figure size 432x288 with 1 Axes>"
      ]
     },
     "metadata": {
      "needs_background": "light"
     },
     "output_type": "display_data"
    }
   ],
   "source": [
    "############## Classification#############\n",
    "###########Logistic Regression\n",
    "import pandas as pd\n",
    "from sklearn.linear_model import LogisticRegression\n",
    "from sklearn import preprocessing\n",
    "\n",
    "# X, y = load_iris(return_X_y=True)\n",
    "#\n",
    "# ###### Devide data to test and train\n",
    "# from sklearn.model_selection import train_test_split\n",
    "# X_train,X_test,y_train,y_test=train_test_split(X,y,test_size=0.25,random_state=0)\n",
    "\n",
    "data2= pd.read_csv(\"EC-H1-train.csv\")\n",
    "data1= pd.read_csv(\"EC-H1-test.csv\")\n",
    "##replacing\n",
    "# bmedian = data2['Bare Nuclei'].median()\n",
    "# data2['Bare Nuclei'].fillna(bmedian,inplace=True)\n",
    "\n",
    "X_train=data2.values[:,1:]\n",
    "y_train=data2.values[:,0]\n",
    "X_test=data1.values[:,1:]\n",
    "y_test=data1.values[:,0]\n",
    "\n",
    "### Preprocess ###\n",
    "scaler = preprocessing.StandardScaler().fit(X_train)\n",
    "X_train_transformed = scaler.transform(X_train)\n",
    "X_test_transformed = scaler.transform(X_test)\n",
    "# X_transformed = scaler.transform(X)\n",
    "\n",
    "\n",
    "\n",
    "#####################LogisticRegression\n",
    "logreg = LogisticRegression( )\n",
    "logregmodel = logreg.fit(X_train, y_train)\n",
    "\n",
    "y_pred = logregmodel.predict(X_test)\n",
    "# array([0, 0])\n",
    "print(logregmodel.predict_proba(X_test))\n",
    "# array([[9.8...e-01, 1.8...e-02, 1.4...e-08], [9.7...e-01, 2.8...e-02, ...e-08]])\n",
    "logesticRscore = logregmodel.score(X_test, y_test)\n",
    "\n",
    "########Confusion matrix\n",
    "from sklearn import metrics\n",
    "cnf_matrix = metrics.confusion_matrix(y_test, y_pred)\n",
    "print(cnf_matrix)\n",
    "\n",
    "######ploting\n",
    "# import required modules\n",
    "import numpy as np\n",
    "import matplotlib.pyplot as plt\n",
    "import seaborn as sns\n",
    "import pandas as pd\n",
    "#matplotlib inline\n",
    "class_names=[0,1] # name  of classes\n",
    "fig, ax = plt.subplots()\n",
    "tick_marks = np.arange(len(class_names))\n",
    "plt.xticks(tick_marks, class_names)\n",
    "plt.yticks(tick_marks, class_names)\n",
    "\n",
    "# create heatmap\n",
    "sns.heatmap(pd.DataFrame(cnf_matrix), annot=True, cmap=\"YlGnBu\" ,fmt='g')\n",
    "ax.xaxis.set_label_position(\"top\")\n",
    "plt.tight_layout()\n",
    "plt.title('Confusion matrix', y=1.1)\n",
    "plt.ylabel('Actual label')\n",
    "plt.xlabel('Predicted label')\n",
    "\n",
    "plt.show()\n",
    "\n",
    "#####Metrics\n",
    "print(\"Accuracy:\",metrics.accuracy_score(y_test, y_pred))\n",
    "# print(\"Precision:\",metrics.precision_score(y_test, y_pred))\n",
    "# print(\"Recall:\",metrics.recall_score(y_test, y_pred))\n",
    "\n",
    "#### Roc Curve\n",
    "y_pred_proba = logreg.predict_proba(X_test)[::,1]\n",
    "fpr, tpr, _ = metrics.roc_curve(y_test,  y_pred_proba)\n",
    "auc = metrics.roc_auc_score(y_test, y_pred_proba)\n",
    "plt.plot(fpr,tpr,label=\"data 1, auc=\"+str(auc))\n",
    "plt.legend(loc=4)\n",
    "plt.show()\n",
    "\n"
   ]
  },
  {
   "cell_type": "code",
   "execution_count": 23,
   "metadata": {},
   "outputs": [
    {
     "name": "stderr",
     "output_type": "stream",
     "text": [
      "c:\\program files\\python36\\lib\\site-packages\\sklearn\\linear_model\\logistic.py:433: FutureWarning: Default solver will be changed to 'lbfgs' in 0.22. Specify a solver to silence this warning.\n",
      "  FutureWarning)\n"
     ]
    },
    {
     "name": "stdout",
     "output_type": "stream",
     "text": [
      "[[167 145]\n",
      " [488 465]]\n",
      "logistic Regression_Accuracy: 0.49960474308300395\n",
      "Precision: 0.4879328436516264\n",
      "Recall: 0.7622950819672131\n"
     ]
    }
   ],
   "source": [
    "\n",
    "\n",
    "###########Logistic Regression#####\n",
    "from sklearn.linear_model import LogisticRegression\n",
    "logreg = LogisticRegression()\n",
    "logregmodel = logreg.fit(X_train, y_train)\n",
    "y_pred = logregmodel.predict(X_test)\n",
    "\n",
    "\n",
    "\n",
    "########Confusion matrix\n",
    "from sklearn import metrics\n",
    "cnf_matrix = metrics.confusion_matrix(y_pred , y_test )\n",
    "print(cnf_matrix)\n",
    "\n",
    "#####Metrics\n",
    "print(\"logistic Regression_Accuracy:\",metrics.accuracy_score(y_test, y_pred))\n",
    "print(\"Precision:\",metrics.precision_score(y_test, y_pred))\n",
    "print(\"Recall:\",metrics.recall_score(y_test, y_pred))\n",
    "\n"
   ]
  },
  {
   "cell_type": "code",
   "execution_count": 24,
   "metadata": {},
   "outputs": [
    {
     "name": "stdout",
     "output_type": "stream",
     "text": [
      "[[229 197]\n",
      " [426 413]]\n",
      "GaussianNB_Accuracy: 0.5075098814229249\n",
      "Precision: 0.4922526817640048\n",
      "Recall: 0.6770491803278689\n",
      "F_measure: 0.570048309178744\n",
      "[[  1   0]\n",
      " [654 610]]\n",
      "Linear Regression_Accuracy: 0.48300395256916995\n",
      "Precision: 0.4825949367088608\n",
      "Recall: 1.0\n"
     ]
    }
   ],
   "source": [
    "##########Naive Bayes #########\n",
    "from sklearn.naive_bayes import GaussianNB\n",
    "\n",
    "GNB = GaussianNB()\n",
    "GNBmodel = GNB.fit(X_train, y_train)\n",
    "y_pred = GNBmodel.predict(X_test)\n",
    "\n",
    "########Confusion matrix\n",
    "from sklearn import metrics\n",
    "cnf_matrix = metrics.confusion_matrix(y_pred,y_test )\n",
    "print(cnf_matrix)\n",
    "\n",
    "#####Metrics\n",
    "print(\"GaussianNB_Accuracy:\",metrics.accuracy_score(y_test, y_pred))\n",
    "print(\"Precision:\",metrics.precision_score(y_test, y_pred))\n",
    "print(\"Recall:\",metrics.recall_score(y_test, y_pred))\n",
    "print(\"F_measure:\",metrics.f1_score(y_test, y_pred))\n",
    "\n",
    "\n",
    "\n",
    "\n",
    "\n",
    "###### Classification with Linear Regression######\n",
    "from sklearn.linear_model import LinearRegression\n",
    "LR= LinearRegression()\n",
    "LRmodel = LR.fit(X_train, y_train)\n",
    "y_regpred = LRmodel.predict(X_test)\n",
    "y_pred= [1 if x>=0.4 else 0 for x in y_regpred]\n",
    "\n",
    "########Confusion matrix\n",
    "from sklearn import metrics\n",
    "cnf_matrix = metrics.confusion_matrix(y_pred , y_test)\n",
    "print(cnf_matrix)\n",
    "\n",
    "#####Metrics\n",
    "print(\"Linear Regression_Accuracy:\",metrics.accuracy_score(y_test, y_pred))\n",
    "print(\"Precision:\",metrics.precision_score(y_test , y_pred))\n",
    "print(\"Recall:\",metrics.recall_score(y_test, y_pred))\n",
    "\n",
    "\n",
    "\n"
   ]
  },
  {
   "cell_type": "code",
   "execution_count": 25,
   "metadata": {},
   "outputs": [
    {
     "name": "stdout",
     "output_type": "stream",
     "text": [
      "[[ 36 619]\n",
      " [ 33 577]]\n",
      "QDA_Accuracy: 0.48458498023715413\n",
      "Precision: 0.48244147157190637\n",
      "Recall: 0.9459016393442623\n"
     ]
    },
    {
     "name": "stderr",
     "output_type": "stream",
     "text": [
      "c:\\program files\\python36\\lib\\site-packages\\sklearn\\discriminant_analysis.py:692: UserWarning: Variables are collinear\n",
      "  warnings.warn(\"Variables are collinear\")\n",
      "c:\\program files\\python36\\lib\\site-packages\\sklearn\\discriminant_analysis.py:692: UserWarning: Variables are collinear\n",
      "  warnings.warn(\"Variables are collinear\")\n"
     ]
    }
   ],
   "source": [
    "\n",
    "######QDA ###########\n",
    "from sklearn.discriminant_analysis import QuadraticDiscriminantAnalysis\n",
    "QDA= QuadraticDiscriminantAnalysis()\n",
    "QDAmodel = QDA.fit(X_train, y_train)\n",
    "y_pred = QDAmodel.predict(X_test)\n",
    "\n",
    "########Confusion matrix\n",
    "from sklearn import metrics\n",
    "cnf_matrix = metrics.confusion_matrix(y_test, y_pred)\n",
    "print(cnf_matrix)\n",
    "\n",
    "#####Metrics\n",
    "print(\"QDA_Accuracy:\",metrics.accuracy_score(y_test, y_pred))\n",
    "print(\"Precision:\",metrics.precision_score(y_test , y_pred))\n",
    "print(\"Recall:\",metrics.recall_score(y_test, y_pred))\n",
    "\n",
    "\n"
   ]
  },
  {
   "cell_type": "code",
   "execution_count": 26,
   "metadata": {},
   "outputs": [
    {
     "name": "stdout",
     "output_type": "stream",
     "text": [
      "[[256 213]\n",
      " [399 397]]\n",
      "LDA_Accuracy: 0.516205533596838\n",
      "Precision: 0.49874371859296485\n",
      "Recall: 0.6508196721311476\n"
     ]
    },
    {
     "name": "stderr",
     "output_type": "stream",
     "text": [
      "c:\\program files\\python36\\lib\\site-packages\\sklearn\\discriminant_analysis.py:388: UserWarning: Variables are collinear.\n",
      "  warnings.warn(\"Variables are collinear.\")\n"
     ]
    }
   ],
   "source": [
    "\n",
    "\n",
    "######LDA ###########\n",
    "from sklearn.discriminant_analysis import LinearDiscriminantAnalysis\n",
    "LDA= LinearDiscriminantAnalysis()\n",
    "LDAmodel = LDA.fit(X_train, y_train)\n",
    "y_pred = LDAmodel.predict(X_test)\n",
    "\n",
    "########Confusion matrix\n",
    "from sklearn import metrics\n",
    "cnf_matrix = metrics.confusion_matrix(y_pred ,y_test )\n",
    "print(cnf_matrix)\n",
    "\n",
    "#####Metrics\n",
    "print(\"LDA_Accuracy:\",metrics.accuracy_score(y_test, y_pred))\n",
    "print(\"Precision:\",metrics.precision_score(y_test , y_pred))\n",
    "print(\"Recall:\",metrics.recall_score(y_test, y_pred))\n"
   ]
  },
  {
   "cell_type": "code",
   "execution_count": 27,
   "metadata": {},
   "outputs": [],
   "source": [
    "\n",
    "\n",
    "######SVM ###########\n",
    "from sklearn.svm import SVC\n",
    "Svm= SVC(C=1.0, kernel='rbf', degree=3, gamma='auto',\n",
    " coef0=0.0, shrinking=True, probability=False, tol=0.001,\n",
    " cache_size=200, class_weight=None, verbose=False, max_iter=-1,\n",
    " decision_function_shape='ovo', random_state=None)\n"
   ]
  },
  {
   "cell_type": "code",
   "execution_count": 28,
   "metadata": {},
   "outputs": [
    {
     "name": "stdout",
     "output_type": "stream",
     "text": [
      "[[  0   0]\n",
      " [655 610]]\n",
      "SVM_Accuracy: 0.48221343873517786\n",
      "Precision: 0.48221343873517786\n",
      "Recall: 1.0\n"
     ]
    }
   ],
   "source": [
    "\n",
    "Svmmodel = Svm.fit(X_train, y_train)\n",
    "y_pred = Svmmodel.predict(X_test)\n",
    "\n",
    "########Confusion matrix\n",
    "from sklearn import metrics\n",
    "cnf_matrix = metrics.confusion_matrix(y_pred ,y_test )\n",
    "print(cnf_matrix)\n",
    "\n",
    "#####Metrics\n",
    "print(\"SVM_Accuracy:\",metrics.accuracy_score(y_test, y_pred))\n",
    "print(\"Precision:\",metrics.precision_score(y_test , y_pred))\n",
    "print(\"Recall:\",metrics.recall_score(y_test, y_pred))\n"
   ]
  },
  {
   "cell_type": "code",
   "execution_count": 29,
   "metadata": {},
   "outputs": [],
   "source": [
    "# from sklearn.model_selection import LeaveOneOut\n",
    "# X = X_train\n",
    "# y = y_train\n",
    "# loo = LeaveOneOut()\n",
    "# loo.get_n_splits(X)\n",
    "#\n",
    "#\n",
    "# for train_index, test_index in loo.split(X):\n",
    "#    # print(\"TRAIN:\", train_index, \"TEST:\", test_index)\n",
    "#    X_train, X_test = X[train_index], X[test_index]\n",
    "#    y_train, y_test = y[train_index], y[test_index]\n",
    "#    # print(X_train, X_test, y_train, y_test)\n"
   ]
  },
  {
   "cell_type": "code",
   "execution_count": null,
   "metadata": {},
   "outputs": [],
   "source": []
  }
 ],
 "metadata": {
  "kernelspec": {
   "display_name": "Python 3",
   "language": "python",
   "name": "python3"
  },
  "language_info": {
   "codemirror_mode": {
    "name": "ipython",
    "version": 3
   },
   "file_extension": ".py",
   "mimetype": "text/x-python",
   "name": "python",
   "nbconvert_exporter": "python",
   "pygments_lexer": "ipython3",
   "version": "3.6.7"
  }
 },
 "nbformat": 4,
 "nbformat_minor": 2
}
