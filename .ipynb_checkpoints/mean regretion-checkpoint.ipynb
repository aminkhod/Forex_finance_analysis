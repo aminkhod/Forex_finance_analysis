{
 "cells": [
  {
   "cell_type": "code",
   "execution_count": 26,
   "metadata": {},
   "outputs": [],
   "source": [
    "import pandas as pd\n",
    "from sklearn.linear_model import LinearRegression as LR\n",
    "import matplotlib.pyplot as plt\n",
    "import numpy as np\n",
    "from sklearn.model_selection import train_test_split\n",
    "from scipy import stats\n"
   ]
  },
  {
   "cell_type": "code",
   "execution_count": 7,
   "metadata": {},
   "outputs": [],
   "source": [
    "missing = [' ']\n",
    "eurusdH4 = pd.read_excel('eurusdH4.xlsx', encoding = 'Latin1', na_values = missing)\n",
    "eurusdH4.dropna(inplace = True)\n"
   ]
  },
  {
   "cell_type": "code",
   "execution_count": 55,
   "metadata": {},
   "outputs": [],
   "source": [
    "eurusdH4.to_csv('eurusdH4.csv',index=False)"
   ]
  },
  {
   "cell_type": "code",
   "execution_count": 57,
   "metadata": {},
   "outputs": [
    {
     "name": "stdout",
     "output_type": "stream",
     "text": [
      "(26218, 37)\n"
     ]
    }
   ],
   "source": [
    "eurusdH4 = pd.read_csv('eurusdH4.csv')\n",
    "print(eurusdH4.shape)\n",
    "mean = eurusdH4['mean']\n",
    "low = eurusdH4['Low*10000']\n",
    "high = eurusdH4['High*10000']\n"
   ]
  },
  {
   "cell_type": "code",
   "execution_count": 9,
   "metadata": {},
   "outputs": [],
   "source": [
    "X = eurusdH4.values[:,3:]"
   ]
  },
  {
   "cell_type": "code",
   "execution_count": 10,
   "metadata": {},
   "outputs": [
    {
     "data": {
      "text/plain": [
       "1.1601"
      ]
     },
     "execution_count": 10,
     "metadata": {},
     "output_type": "execute_result"
    }
   ],
   "source": [
    "X[1][0]"
   ]
  },
  {
   "cell_type": "code",
   "execution_count": 11,
   "metadata": {},
   "outputs": [
    {
     "ename": "TypeError",
     "evalue": "only integer scalar arrays can be converted to a scalar index",
     "output_type": "error",
     "traceback": [
      "\u001b[1;31m---------------------------------------------------------------------------\u001b[0m",
      "\u001b[1;31mTypeError\u001b[0m                                 Traceback (most recent call last)",
      "\u001b[1;32m<ipython-input-11-3112aff1954b>\u001b[0m in \u001b[0;36m<module>\u001b[1;34m\u001b[0m\n\u001b[0;32m      1\u001b[0m \u001b[0mc\u001b[0m \u001b[1;33m=\u001b[0m \u001b[1;36m0\u001b[0m\u001b[1;33m\u001b[0m\u001b[1;33m\u001b[0m\u001b[0m\n\u001b[0;32m      2\u001b[0m \u001b[1;33m\u001b[0m\u001b[0m\n\u001b[1;32m----> 3\u001b[1;33m \u001b[1;32mfor\u001b[0m \u001b[0mi\u001b[0m \u001b[1;32min\u001b[0m \u001b[0mrange\u001b[0m\u001b[1;33m(\u001b[0m\u001b[0mX\u001b[0m\u001b[1;33m[\u001b[0m\u001b[1;36m1\u001b[0m\u001b[1;33m]\u001b[0m\u001b[1;33m)\u001b[0m\u001b[1;33m:\u001b[0m\u001b[1;33m\u001b[0m\u001b[1;33m\u001b[0m\u001b[0m\n\u001b[0m\u001b[0;32m      4\u001b[0m     \u001b[1;32mfor\u001b[0m \u001b[0mj\u001b[0m \u001b[1;32min\u001b[0m \u001b[0mrange\u001b[0m\u001b[1;33m(\u001b[0m\u001b[0mX\u001b[0m\u001b[1;33m[\u001b[0m\u001b[1;33m:\u001b[0m\u001b[1;33m]\u001b[0m\u001b[1;33m[\u001b[0m\u001b[1;36m1\u001b[0m\u001b[1;33m]\u001b[0m\u001b[1;33m)\u001b[0m\u001b[1;33m:\u001b[0m\u001b[1;33m\u001b[0m\u001b[1;33m\u001b[0m\u001b[0m\n\u001b[0;32m      5\u001b[0m         \u001b[0mel\u001b[0m \u001b[1;33m=\u001b[0m \u001b[0mX\u001b[0m\u001b[1;33m[\u001b[0m\u001b[0mi\u001b[0m\u001b[1;33m]\u001b[0m\u001b[1;33m[\u001b[0m\u001b[0mj\u001b[0m\u001b[1;33m]\u001b[0m\u001b[1;33m\u001b[0m\u001b[1;33m\u001b[0m\u001b[0m\n",
      "\u001b[1;31mTypeError\u001b[0m: only integer scalar arrays can be converted to a scalar index"
     ]
    }
   ],
   "source": [
    "c = 0\n",
    "\n",
    "for i in range(X[1]):\n",
    "    for j in range(X[:][1]):\n",
    "        el = X[i][j]\n",
    "        if np.isfinite(el) == True:\n",
    "            c +=1\n",
    "        print(c, i, j)"
   ]
  },
  {
   "cell_type": "code",
   "execution_count": 12,
   "metadata": {},
   "outputs": [],
   "source": [
    "X_train, X_test, y_train, y_test = train_test_split(\n",
    "    X, low, test_size=0.1, random_state=0)"
   ]
  },
  {
   "cell_type": "code",
   "execution_count": 31,
   "metadata": {},
   "outputs": [
    {
     "name": "stdout",
     "output_type": "stream",
     "text": [
      "23596 23596\n",
      "RSS : 4317695.193184362\n",
      "MSE : 183.25602449744756\n",
      "   Coefficient Names  Coefficient  Std. Error  t-statistic  P-value\n",
      "0          Intercept      -2.6817       1.582       -1.695    0.090\n",
      "1               Open    4556.6412     183.131       24.882    0.000\n",
      "2                 d0       4.4903       0.258       17.427    0.000\n",
      "3                 d1      -0.4189       0.263       -1.595    0.111\n",
      "4                 d2       1.6968       0.209        8.121    0.000\n",
      "5                Rsi       1.3748       0.077       17.777    0.000\n",
      "6              rsi-1      -0.9132       0.114       -8.040    0.000\n",
      "7              rsi-2      -0.4794       0.084       -5.681    0.000\n",
      "8                CCI       0.0431       0.004       11.396    0.000\n",
      "9              cci-1      -0.0309       0.005       -6.014    0.000\n",
      "10             cci-2      -0.0025       0.004       -0.650    0.516\n",
      "11               adx      -0.0446       0.078       -0.571    0.568\n",
      "12             adx-2       0.0234       0.149        0.156    0.876\n",
      "13           adx-2.1       0.0061       0.086        0.070    0.944\n",
      "14              Macd    9464.5110     286.806       33.000    0.000\n",
      "15            macd-1  -29293.0661    7267.940       -4.030    0.000\n",
      "16            macd-2   22259.6770    6346.776        3.507    0.000\n",
      "17               atr  -26985.9555     302.012      -89.354    0.000\n",
      "18             atr-1   17088.9659     594.246       28.757    0.000\n",
      "19             atr-2    5439.8629     471.904       11.527    0.000\n",
      "20           Chaiken       0.0000       0.000        6.730    0.000\n",
      "21         chaiken-1      -0.0000       0.000       -3.611    0.000\n",
      "22         chaiken-2      -0.0000       0.000       -1.551    0.121\n",
      "23           HighLow      -0.0017       0.000      -10.747    0.000\n",
      "24         highlow-1       0.0027       0.000       10.513    0.000\n",
      "25         highlow-2      -0.0011       0.000      -10.081    0.000\n",
      "26          Aligator     -19.0052       6.671       -2.849    0.004\n",
      "27        aligator-1   48696.5184    6460.893        7.537    0.000\n",
      "28        aligator-2  -43235.3425    6409.254       -6.746    0.000\n",
      "29                AC   17467.6745     256.448       68.114    0.000\n",
      "30              ac-1  -22215.2952     374.407      -59.335    0.000\n",
      "31              ac-2   10206.9798     211.305       48.305    0.000\n",
      "32                AD       0.0002       0.000        7.429    0.000\n",
      "33              ad-1      -0.0002       0.000       -7.815    0.000\n",
      "34              ad-2       0.0000       0.000        2.491    0.013\n",
      "F-statistic= 798556.7469473614\n"
     ]
    }
   ],
   "source": [
    "\n",
    "LRmodel = LR()\n",
    "\n",
    "X_copy=eurusdH4[eurusdH4.columns[3:]]\n",
    "\n",
    "\n",
    "# X=X._values\n",
    "# y=y._values\n",
    "\n",
    "LRmodel.fit(X_train, y_train)\n",
    "params = np.append(LRmodel.intercept_, LRmodel.coef_)\n",
    "Y_hat = LRmodel.predict(X_train)\n",
    "Y_bar=LRmodel.intercept_\n",
    "newX = pd.DataFrame({\"Constant\":np.ones(len(X_train))}).join(pd.DataFrame(X_train))\n",
    "RSS= sum((y_train-Y_hat)**2)\n",
    "print('RSS : ' + str(RSS))\n",
    "TSS= sum((y_train-Y_bar)**2)\n",
    "MSE = (sum((y_train - Y_hat) ** 2)) / (len(newX) - len(newX.columns))\n",
    "print('MSE : ' + str(MSE))\n",
    "F_statistic=((TSS-RSS)/len(X_train))/MSE\n",
    "var_b = MSE*(np.linalg.inv(np.dot(newX.T,newX)).diagonal())\n",
    "sd_b = np.sqrt(var_b)\n",
    "ts_b = params/ sd_b\n",
    "p_values =[2*(1-stats.t.cdf(np.abs(i),(len(newX)-1))) for i in ts_b]\n",
    "sd_b = np.round(sd_b,3)\n",
    "ts_b = np.round(ts_b,3)\n",
    "p_values = np.round(p_values,3)\n",
    "params = np.round(params,4)\n",
    "\n",
    "\n",
    "myDF3 = pd.DataFrame()\n",
    "a=list(X_copy.columns.values)\n",
    "a.insert(0,\"Intercept\")\n",
    "myDF3[\"Coefficient Names\"],myDF3[\"Coefficient\"],myDF3[\"Std. Error\"],myDF3[\"t-statistic\"],myDF3[\"P-value\"] = [np.array(a),params,sd_b,ts_b,p_values]\n",
    "print(myDF3)\n",
    "print(\"F-statistic=\",F_statistic )\n"
   ]
  },
  {
   "cell_type": "code",
   "execution_count": 53,
   "metadata": {},
   "outputs": [
    {
     "name": "stdout",
     "output_type": "stream",
     "text": [
      "23596 23596\n"
     ]
    },
    {
     "data": {
      "image/png": "[encoded data removed]",
      "text/plain": [
       "<Figure size 432x288 with 1 Axes>"
      ]
     },
     "metadata": {
      "needs_background": "light"
     },
     "output_type": "display_data"
    }
   ],
   "source": [
    "# plot\n",
    "print(len(Y_hat), len(y_train))\n",
    "XX = X_train[]\n",
    "plt.scatter(y_train,)\n",
    "plt.plot(,Y_hat );\n",
    "plt.show()"
   ]
  },
  {
   "cell_type": "code",
   "execution_count": 19,
   "metadata": {},
   "outputs": [],
   "source": [
    "X_train, X_test, y_train, y_test = train_test_split(\n",
    "    X, high, test_size=0.1, random_state=0)"
   ]
  },
  {
   "cell_type": "code",
   "execution_count": 20,
   "metadata": {},
   "outputs": [],
   "source": [
    "X_train, X_test, y_train, y_test = train_test_split(\n",
    "    X, mean, test_size=0.1, random_state=0)"
   ]
  },
  {
   "cell_type": "code",
   "execution_count": null,
   "metadata": {},
   "outputs": [],
   "source": []
  }
 ],
 "metadata": {
  "kernelspec": {
   "display_name": "Python 3",
   "language": "python",
   "name": "python3"
  },
  "language_info": {
   "codemirror_mode": {
    "name": "ipython",
    "version": 3
   },
   "file_extension": ".py",
   "mimetype": "text/x-python",
   "name": "python",
   "nbconvert_exporter": "python",
   "pygments_lexer": "ipython3",
   "version": "3.6.7"
  }
 },
 "nbformat": 4,
 "nbformat_minor": 2
}
