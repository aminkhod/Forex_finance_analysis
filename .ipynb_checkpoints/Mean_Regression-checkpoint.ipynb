{
 "cells": [
  {
   "cell_type": "code",
   "execution_count": 7,
   "metadata": {},
   "outputs": [],
   "source": [
    "import pandas as pd\n",
    "from sklearn.linear_model import LinearRegression as LR\n",
    "import matplotlib.pyplot as plt\n",
    "import numpy as np\n",
    "# from sklearn.model_selection import train_test_split\n",
    "from scipy import stats"
   ]
  },
  {
   "cell_type": "code",
   "execution_count": 8,
   "metadata": {},
   "outputs": [
    {
     "name": "stdout",
     "output_type": "stream",
     "text": [
      "(19666, 20)\n"
     ]
    }
   ],
   "source": [
    "\n",
    "missing = [' ']\n",
    "eurusdH4 = pd.read_csv(\"EuroGBP_H1.csv\", na_values = missing)\n",
    "eurusdH4.dropna(inplace = True) \n",
    "print(eurusdH4.shape)\n",
    "mean = eurusdH4['Mean']\n",
    "low = eurusdH4['Low']\n",
    "high = eurusdH4['High']"
   ]
  },
  {
   "cell_type": "code",
   "execution_count": 14,
   "metadata": {},
   "outputs": [],
   "source": [
    "X = eurusdH4.values[:,3:16]"
   ]
  },
  {
   "cell_type": "code",
   "execution_count": 17,
   "metadata": {},
   "outputs": [],
   "source": [
    "# X[1][0]"
   ]
  },
  {
   "cell_type": "code",
   "execution_count": 18,
   "metadata": {},
   "outputs": [],
   "source": [
    "# lowX_train, lowX_test, lowy_train, lowy_test = train_test_split(\n",
    "#     X, low, test_size=0.1, random_state=0)"
   ]
  },
  {
   "cell_type": "code",
   "execution_count": 19,
   "metadata": {},
   "outputs": [
    {
     "name": "stdout",
     "output_type": "stream",
     "text": [
      "RSS : 81384819.96735826\n",
      "MSE : 4141.299611609926\n",
      "   Coefficient Names  Coefficient   Std. Error  t-statistic  P-value\n",
      "0          Intercept  -83002.1907       15.755    -5268.191    0.000\n",
      "1               Open    5278.0027     2691.936        1.961    0.050\n",
      "2                 Ma    7382.8873  1127434.840        0.007    0.995\n",
      "3                Rsi      -0.4302        0.127       -3.388    0.001\n",
      "4                CCI      -0.1239        0.008      -15.988    0.000\n",
      "5                adx       0.0168        0.050        0.335    0.737\n",
      "6               Macd   29561.7175      909.633       32.499    0.000\n",
      "7                atr  -49727.3396      965.293      -51.515    0.000\n",
      "8            Chaiken      -0.0000        0.000       -1.793    0.073\n",
      "9            HighLow      -0.0001        0.000       -1.972    0.049\n",
      "10          Aligator    7382.8830  1127432.946        0.007    0.995\n",
      "11                AC   17739.6959      633.842       27.988    0.000\n",
      "12                AD      -0.0000        0.000       -1.723    0.085\n",
      "13             Close   79983.7146     2722.345       29.380    0.000\n",
      "F-statistic= 1820375.91422053\n"
     ]
    }
   ],
   "source": [
    "LRmodel = LR()\n",
    "\n",
    "X_copy=eurusdH4[eurusdH4.columns[3:16]]\n",
    "\n",
    "\n",
    "# X=X._values\n",
    "# y=y._values\n",
    "\n",
    "LRmodel.fit(X, low)\n",
    "params = np.append(LRmodel.intercept_, LRmodel.coef_)\n",
    "lowY_hat = LRmodel.predict(X)\n",
    "Y_bar=LRmodel.intercept_\n",
    "newX = pd.DataFrame({\"Constant\":np.ones(len(X))}).join(pd.DataFrame(X))\n",
    "dfDirty = newX+0.000001*np.random.rand(len(newX['Constant']), 14)\n",
    "newX = dfDirty\n",
    "newX=newX.astype(\"Float64\") \n",
    "RSS= sum((low-lowY_hat)**2)\n",
    "print('RSS : ' + str(RSS))\n",
    "TSS= sum((low-Y_bar)**2)\n",
    "MSE = (sum((low - lowY_hat) ** 2)) / (len(newX) - len(newX.columns))\n",
    "print('MSE : ' + str(MSE))\n",
    "F_statistic=((TSS-RSS)/len(X))/MSE\n",
    "var_b = MSE*(np.linalg.inv(np.dot(newX.T,newX)).diagonal())\n",
    "sd_b = np.sqrt(var_b)\n",
    "ts_b = params/ sd_b\n",
    "p_values =[2*(1-stats.t.cdf(np.abs(i),(len(newX)-1))) for i in ts_b]\n",
    "sd_b = np.round(sd_b,3)\n",
    "ts_b = np.round(ts_b,3)\n",
    "p_values = np.round(p_values,3)\n",
    "params = np.round(params,4)\n",
    "\n",
    "\n",
    "myDF3 = pd.DataFrame()\n",
    "a=list(X_copy.columns.values)\n",
    "a.insert(0,\"Intercept\")\n",
    "myDF3[\"Coefficient Names\"],myDF3[\"Coefficient\"],myDF3[\"Std. Error\"],myDF3[\"t-statistic\"],myDF3[\"P-value\"] = [np.array(a),params,sd_b,ts_b,p_values]\n",
    "print(myDF3)\n",
    "print(\"F-statistic=\",F_statistic )\n"
   ]
  },
  {
   "cell_type": "code",
   "execution_count": 20,
   "metadata": {},
   "outputs": [],
   "source": [
    "lowData = []\n",
    "lowData = pd.DataFrame(eurusdH4[eurusdH4.columns[3:]])\n",
    "lowData.columns = ['Open', 'Ma', 'Rsi', 'CCI', 'adx', 'Macd', 'atr', 'Chaiken',\n",
    "                   'HighLow', 'Aligator', 'AC', 'AD', 'Date', 'Close', 'Dt',\n",
    "                   'Mom-BollObv', 'Adx-Boll']\n",
    "lowData['Actual Low'] = low\n",
    "lowData['Predicted Low'] = lowY_hat\n",
    "lowData.to_csv('low data prediction.csv',index=False)"
   ]
  },
  {
   "cell_type": "code",
   "execution_count": 21,
   "metadata": {},
   "outputs": [
    {
     "data": {
      "image/png": "[encoded data removed]",
      "text/plain": [
       "<Figure size 432x288 with 2 Axes>"
      ]
     },
     "metadata": {
      "needs_background": "light"
     },
     "output_type": "display_data"
    }
   ],
   "source": [
    "# plot\n",
    "\n",
    "XX = X[:,-1]\n",
    "# plt.figure(figsize=(2, 2))\n",
    "f, (ax1, ax2) = plt.subplots(2,1)\n",
    "ax1.scatter(np.sort(XX) ,low)\n",
    "ax1.set_title('Actual Low')\n",
    "ax2.plot(np.sort(XX) ,lowY_hat ,color='red');\n",
    "ax2.set_title('Predicted Low')\n",
    "\n",
    "plt.tight_layout()\n",
    "# plt.show()"
   ]
  },
  {
   "cell_type": "code",
   "execution_count": 22,
   "metadata": {},
   "outputs": [
    {
     "name": "stdout",
     "output_type": "stream",
     "text": [
      "RSS : 99514698.58112037\n",
      "MSE : 5063.845846790167\n",
      "   Coefficient Names  Coefficient   Std. Error  t-statistic  P-value\n",
      "0          Intercept  -82945.8182       17.422    -4760.973    0.000\n",
      "1               Open    3669.1942     2976.872        1.233    0.218\n",
      "2                 Ma   -2831.6583  1242515.353       -0.002    0.998\n",
      "3                Rsi       1.0494        0.140        7.474    0.000\n",
      "4                CCI      -0.2583        0.009      -30.138    0.000\n",
      "5                adx       0.0140        0.055        0.253    0.800\n",
      "6               Macd   -8018.1169     1005.868       -7.971    0.000\n",
      "7                atr   10901.0550     1067.396       10.213    0.000\n",
      "8            Chaiken      -0.0000        0.000      -11.812    0.000\n",
      "9            HighLow       0.0002        0.000        5.512    0.000\n",
      "10          Aligator   -2831.6573  1242517.379       -0.002    0.998\n",
      "11                AC   -1887.6182      700.888       -2.693    0.007\n",
      "12                AD      -0.0000        0.000       -4.345    0.000\n",
      "13             Close  101936.1115     3010.491       33.860    0.000\n",
      "F-statistic= 1491034.4962368277\n"
     ]
    }
   ],
   "source": [
    "LRmodel = LR()\n",
    "\n",
    "X_copy=eurusdH4[eurusdH4.columns[3:16]]\n",
    "\n",
    "\n",
    "# X=X._values\n",
    "# y=y._values\n",
    "\n",
    "LRmodel.fit(X, high)\n",
    "params = np.append(LRmodel.intercept_, LRmodel.coef_)\n",
    "highY_hat = LRmodel.predict(X)\n",
    "Y_bar=LRmodel.intercept_\n",
    "newX = pd.DataFrame({\"Constant\":np.ones(len(X))}).join(pd.DataFrame(X))\n",
    "dfDirty = newX+0.000001*np.random.rand(len(newX['Constant']), 14)\n",
    "newX = dfDirty\n",
    "newX=newX.astype(\"Float64\") \n",
    "RSS= sum((high-highY_hat)**2)\n",
    "print('RSS : ' + str(RSS))\n",
    "TSS= sum((high - Y_bar)**2)\n",
    "MSE = (sum((high - highY_hat) ** 2)) / (len(newX) - len(newX.columns))\n",
    "print('MSE : ' + str(MSE))\n",
    "F_statistic=((TSS-RSS)/len(X))/MSE\n",
    "var_b = MSE*(np.linalg.inv(np.dot(newX.T,newX)).diagonal())\n",
    "sd_b = np.sqrt(var_b)\n",
    "ts_b = params/ sd_b\n",
    "p_values =[2*(1-stats.t.cdf(np.abs(i),(len(newX)-1))) for i in ts_b]\n",
    "sd_b = np.round(sd_b,3)\n",
    "ts_b = np.round(ts_b,3)\n",
    "p_values = np.round(p_values,3)\n",
    "params = np.round(params,4)\n",
    "\n",
    "\n",
    "myDF3 = pd.DataFrame()\n",
    "a=list(X_copy.columns.values)\n",
    "a.insert(0,\"Intercept\")\n",
    "myDF3[\"Coefficient Names\"],myDF3[\"Coefficient\"],myDF3[\"Std. Error\"],myDF3[\"t-statistic\"],myDF3[\"P-value\"] = [np.array(a),params,sd_b,ts_b,p_values]\n",
    "print(myDF3)\n",
    "print(\"F-statistic=\",F_statistic )"
   ]
  },
  {
   "cell_type": "code",
   "execution_count": 23,
   "metadata": {},
   "outputs": [],
   "source": [
    "highData = []\n",
    "highData = pd.DataFrame(eurusdH4[eurusdH4.columns[3:]])\n",
    "highData.columns = ['Open', 'Ma', 'Rsi', 'CCI', 'adx', 'Macd', 'atr', 'Chaiken',\n",
    "                   'HighLow', 'Aligator', 'AC', 'AD', 'Date', 'Close', 'Dt',\n",
    "                   'Mom-BollObv', 'Adx-Boll']\n",
    "highData['Actual High'] = high\n",
    "highData['Predicted High'] = highY_hat\n",
    "highData.to_csv('High data prediction.csv',index=False)"
   ]
  },
  {
   "cell_type": "code",
   "execution_count": 24,
   "metadata": {},
   "outputs": [
    {
     "data": {
      "image/png": "[encoded data removed]",
      "text/plain": [
       "<Figure size 432x288 with 2 Axes>"
      ]
     },
     "metadata": {
      "needs_background": "light"
     },
     "output_type": "display_data"
    }
   ],
   "source": [
    "# plot\n",
    "\n",
    "XX = X[:,-1]\n",
    "# plt.figure(figsize=(2, 2))\n",
    "f, (ax1, ax2) = plt.subplots(2,1)\n",
    "ax1.scatter(np.sort(XX) ,high)\n",
    "ax1.set_title('Actual High')\n",
    "ax2.plot(np.sort(XX) ,highY_hat ,color='red');\n",
    "ax2.set_title('Predicted High')\n",
    "\n",
    "plt.tight_layout()\n",
    "plt.show()"
   ]
  },
  {
   "cell_type": "code",
   "execution_count": 25,
   "metadata": {},
   "outputs": [],
   "source": [
    "# meanX_train, meanX_test, meany_train, meany_test = train_test_split(\n",
    "#     X, mean, test_size=0.1, random_state=0)"
   ]
  },
  {
   "cell_type": "code",
   "execution_count": 26,
   "metadata": {},
   "outputs": [
    {
     "name": "stdout",
     "output_type": "stream",
     "text": [
      "RSS : 40582780.14473076\n",
      "MSE : 2065.071246933175\n",
      "   Coefficient Names  Coefficient  Std. Error  t-statistic  P-value\n",
      "0          Intercept  -82974.0044      11.125    -7458.072    0.000\n",
      "1               Open    4473.5984    1900.508        2.354    0.019\n",
      "2                 Ma    2275.6145   79533.996        0.029    0.977\n",
      "3                Rsi       0.3096       0.090        3.453    0.001\n",
      "4                CCI      -0.1911       0.005      -34.915    0.000\n",
      "5                adx       0.0154       0.035        0.436    0.663\n",
      "6               Macd   10771.8003     642.323       16.770    0.000\n",
      "7                atr  -19413.1423     681.699      -28.478    0.000\n",
      "8            Chaiken      -0.0000       0.000      -10.517    0.000\n",
      "9            HighLow       0.0001       0.000        2.919    0.004\n",
      "10          Aligator    2275.6129   79536.004        0.029    0.977\n",
      "11                AC    7926.0388     447.605       17.708    0.000\n",
      "12                AD      -0.0000       0.000       -4.622    0.000\n",
      "13             Close   90959.9130    1921.910       47.328    0.000\n",
      "F-statistic= 3653406.101714856\n"
     ]
    }
   ],
   "source": [
    "LRmodel = LR()\n",
    "\n",
    "X_copy=eurusdH4[eurusdH4.columns[3:16]]\n",
    "\n",
    "\n",
    "# X=X._values\n",
    "# y=y._values\n",
    "\n",
    "LRmodel.fit(X, mean)\n",
    "params = np.append(LRmodel.intercept_, LRmodel.coef_)\n",
    "meanY_hat = LRmodel.predict(X)\n",
    "Y_bar=LRmodel.intercept_\n",
    "newX = pd.DataFrame({\"Constant\":np.ones(len(X))}).join(pd.DataFrame(X))\n",
    "dfDirty = newX+0.00001*np.random.rand(len(newX['Constant']), 14)\n",
    "newX = dfDirty\n",
    "newX=newX.astype(\"Float64\") \n",
    "RSS= sum((mean-meanY_hat)**2)\n",
    "print('RSS : ' + str(RSS))\n",
    "TSS= sum((mean-Y_bar)**2)\n",
    "MSE = (sum((mean - meanY_hat) ** 2)) / (len(newX) - len(newX.columns))\n",
    "print('MSE : ' + str(MSE))\n",
    "F_statistic=((TSS-RSS)/len(X))/MSE\n",
    "var_b = MSE*(np.linalg.inv(np.dot(newX.T,newX)).diagonal())\n",
    "sd_b = np.sqrt(var_b)\n",
    "ts_b = params/ sd_b\n",
    "p_values =[2*(1-stats.t.cdf(np.abs(i),(len(newX)-1))) for i in ts_b]\n",
    "sd_b = np.round(sd_b,3)\n",
    "ts_b = np.round(ts_b,3)\n",
    "p_values = np.round(p_values,3)\n",
    "params = np.round(params,4)\n",
    "\n",
    "\n",
    "myDF3 = pd.DataFrame()\n",
    "a=list(X_copy.columns.values)\n",
    "a.insert(0,\"Intercept\")\n",
    "myDF3[\"Coefficient Names\"],myDF3[\"Coefficient\"],myDF3[\"Std. Error\"],myDF3[\"t-statistic\"],myDF3[\"P-value\"] = [np.array(a),params,sd_b,ts_b,p_values]\n",
    "print(myDF3)\n",
    "print(\"F-statistic=\",F_statistic )"
   ]
  },
  {
   "cell_type": "code",
   "execution_count": 27,
   "metadata": {},
   "outputs": [],
   "source": [
    "meanData = []\n",
    "meanData = pd.DataFrame(eurusdH4[eurusdH4.columns[3:]])\n",
    "meanData.columns = ['Open', 'Ma', 'Rsi', 'CCI', 'adx', 'Macd', 'atr', 'Chaiken',\n",
    "                   'HighLow', 'Aligator', 'AC', 'AD', 'Date', 'Close', 'Dt',\n",
    "                   'Mom-BollObv', 'Adx-Boll']\n",
    "meanData['Actual Mean'] = mean\n",
    "meanData['Predicted Mean'] = meanY_hat\n",
    "meanData.to_csv('Mean data prediction.csv',index=False)"
   ]
  },
  {
   "cell_type": "code",
   "execution_count": 28,
   "metadata": {},
   "outputs": [
    {
     "data": {
      "image/png": "[encoded data removed]",
      "text/plain": [
       "<Figure size 432x288 with 2 Axes>"
      ]
     },
     "metadata": {
      "needs_background": "light"
     },
     "output_type": "display_data"
    }
   ],
   "source": [
    "# plot\n",
    "\n",
    "XX = X[:,-1]\n",
    "# plt.figure(figsize=(2, 2))\n",
    "f, (ax1, ax2) = plt.subplots(2,1)\n",
    "ax1.scatter(np.sort(XX) ,mean)\n",
    "ax1.set_title('Actual Mean')\n",
    "ax2.plot(np.sort(XX) ,meanY_hat ,color='red');\n",
    "ax2.set_title('Predicted Mean')\n",
    "\n",
    "plt.tight_layout()\n",
    "plt.show()"
   ]
  },
  {
   "cell_type": "code",
   "execution_count": 29,
   "metadata": {},
   "outputs": [
    {
     "name": "stdout",
     "output_type": "stream",
     "text": [
      "19666 19666\n",
      "18913\n"
     ]
    }
   ],
   "source": [
    "\n",
    "print(len(meanY_hat), len(low))\n",
    "\n",
    "gg = np.sum(meanY_hat >= low)\n",
    "print(gg)"
   ]
  },
  {
   "cell_type": "code",
   "execution_count": 30,
   "metadata": {},
   "outputs": [
    {
     "name": "stdout",
     "output_type": "stream",
     "text": [
      "18672\n"
     ]
    }
   ],
   "source": [
    "gg1 = np.sum(meanY_hat <= high)\n",
    "print(gg1)\n"
   ]
  },
  {
   "cell_type": "code",
   "execution_count": 31,
   "metadata": {},
   "outputs": [
    {
     "name": "stdout",
     "output_type": "stream",
     "text": [
      "2\n"
     ]
    }
   ],
   "source": [
    "gg1 = np.sum(highY_hat <= low)\n",
    "print(gg1)"
   ]
  },
  {
   "cell_type": "code",
   "execution_count": 32,
   "metadata": {},
   "outputs": [
    {
     "name": "stdout",
     "output_type": "stream",
     "text": [
      "3\n"
     ]
    }
   ],
   "source": [
    "gg1 = np.sum(lowY_hat >= high)\n",
    "print(gg1)"
   ]
  },
  {
   "cell_type": "code",
   "execution_count": 33,
   "metadata": {},
   "outputs": [
    {
     "name": "stdout",
     "output_type": "stream",
     "text": [
      "12477\n"
     ]
    }
   ],
   "source": [
    "highg = np.sum(highY_hat >=high)\n",
    "print(highg)"
   ]
  },
  {
   "cell_type": "code",
   "execution_count": 34,
   "metadata": {},
   "outputs": [
    {
     "name": "stdout",
     "output_type": "stream",
     "text": [
      "12092\n"
     ]
    }
   ],
   "source": [
    "lowg = np.sum(lowY_hat < low)\n",
    "print(lowg)"
   ]
  },
  {
   "cell_type": "code",
   "execution_count": 35,
   "metadata": {},
   "outputs": [
    {
     "name": "stdout",
     "output_type": "stream",
     "text": [
      "[-4047.05977261 -4051.41729361 -4047.1631733  ...  6080.10041712\n",
      "  6089.09465229  6064.38525825]\n"
     ]
    }
   ],
   "source": [
    "print(meanY_hat)"
   ]
  },
  {
   "cell_type": "code",
   "execution_count": 36,
   "metadata": {},
   "outputs": [
    {
     "data": {
      "text/plain": [
       "648"
      ]
     },
     "execution_count": 36,
     "metadata": {},
     "output_type": "execute_result"
    }
   ],
   "source": [
    "666-18\n"
   ]
  },
  {
   "cell_type": "code",
   "execution_count": 37,
   "metadata": {},
   "outputs": [
    {
     "data": {
      "text/plain": [
       "0.9302349232177362"
      ]
     },
     "execution_count": 37,
     "metadata": {},
     "output_type": "execute_result"
    }
   ],
   "source": [
    "18294/19666"
   ]
  },
  {
   "cell_type": "code",
   "execution_count": 93,
   "metadata": {},
   "outputs": [
    {
     "data": {
      "text/plain": [
       "18294"
      ]
     },
     "execution_count": 93,
     "metadata": {},
     "output_type": "execute_result"
    }
   ],
   "source": [
    "19666-1372"
   ]
  },
  {
   "cell_type": "code",
   "execution_count": null,
   "metadata": {},
   "outputs": [],
   "source": []
  }
 ],
 "metadata": {
  "kernelspec": {
   "display_name": "Python 3",
   "language": "python",
   "name": "python3"
  },
  "language_info": {
   "codemirror_mode": {
    "name": "ipython",
    "version": 3
   },
   "file_extension": ".py",
   "mimetype": "text/x-python",
   "name": "python",
   "nbconvert_exporter": "python",
   "pygments_lexer": "ipython3",
   "version": "3.6.7"
  }
 },
 "nbformat": 4,
 "nbformat_minor": 2
}
