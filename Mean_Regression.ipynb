{
 "cells": [
  {
   "cell_type": "code",
   "execution_count": 1,
   "metadata": {},
   "outputs": [],
   "source": [
    "import pandas as pd\n",
    "from sklearn.linear_model import LinearRegression as LR\n",
    "import matplotlib.pyplot as plt\n",
    "import numpy as np\n",
    "from sklearn.model_selection import train_test_split\n",
    "from scipy import stats"
   ]
  },
  {
   "cell_type": "code",
   "execution_count": 2,
   "metadata": {},
   "outputs": [
    {
     "name": "stdout",
     "output_type": "stream",
     "text": [
      "(19667, 16)\n"
     ]
    }
   ],
   "source": [
    "\n",
    "missing = [' ']\n",
    "eurusdH4 = pd.read_csv(\"EuroGBP_H1.csv\", na_values = missing)\n",
    "eurusdH4.dropna(inplace = True)\n",
    "print(eurusdH4.shape)\n",
    "mean = eurusdH4['Mean']\n",
    "low = eurusdH4['Low']\n",
    "high = eurusdH4['High']"
   ]
  },
  {
   "cell_type": "code",
   "execution_count": 3,
   "metadata": {},
   "outputs": [],
   "source": [
    "X = eurusdH4.values[:,3:15]"
   ]
  },
  {
   "cell_type": "code",
   "execution_count": 4,
   "metadata": {},
   "outputs": [
    {
     "data": {
      "text/plain": [
       "0.8910899999999999"
      ]
     },
     "execution_count": 4,
     "metadata": {},
     "output_type": "execute_result"
    }
   ],
   "source": [
    "X[1][0]"
   ]
  },
  {
   "cell_type": "code",
   "execution_count": 5,
   "metadata": {},
   "outputs": [],
   "source": [
    "lowX_train, lowX_test, lowy_train, lowy_test = train_test_split(\n",
    "    X, low, test_size=0.1, random_state=0)"
   ]
  },
  {
   "cell_type": "code",
   "execution_count": 6,
   "metadata": {},
   "outputs": [
    {
     "name": "stdout",
     "output_type": "stream",
     "text": [
      "RSS : 68032439.20029882\n",
      "MSE : 3846.4657206026354\n",
      "   Coefficient Names  Coefficient  Std. Error  t-statistic  P-value\n",
      "0          Intercept  -83084.0242      15.988    -5196.716    0.000\n",
      "1               Open   81763.8140     334.277      244.599    0.000\n",
      "2                 Ma    9125.0079  114700.352        0.080    0.937\n",
      "3                Rsi       0.6272       0.128        4.910    0.000\n",
      "4                CCI       0.2675       0.008       35.484    0.000\n",
      "5                adx      -0.0248       0.051       -0.491    0.624\n",
      "6               Macd   10630.8033     934.812       11.372    0.000\n",
      "7                atr  -20545.4392    1001.786      -20.509    0.000\n",
      "8            Chaiken       0.0000       0.000        7.815    0.000\n",
      "9            HighLow      -0.0004       0.000       -9.864    0.000\n",
      "10          Aligator    9125.0076  114696.914        0.080    0.937\n",
      "11                AC    6991.0755     639.887       10.925    0.000\n",
      "12                AD       0.0000       0.000        1.933    0.053\n",
      "F-statistic= 1963393.3981580155\n"
     ]
    }
   ],
   "source": [
    "LRmodel = LR()\n",
    "\n",
    "X_copy=eurusdH4[eurusdH4.columns[3:15]]\n",
    "\n",
    "\n",
    "# X=X._values\n",
    "# y=y._values\n",
    "\n",
    "LRmodel.fit(lowX_train, lowy_train)\n",
    "params = np.append(LRmodel.intercept_, LRmodel.coef_)\n",
    "lowY_hat = LRmodel.predict(lowX_train)\n",
    "Y_bar=LRmodel.intercept_\n",
    "newX = pd.DataFrame({\"Constant\":np.ones(len(lowX_train))}).join(pd.DataFrame(lowX_train))\n",
    "dfDirty = newX+0.00001*np.random.rand(len(newX['Constant']), 13)\n",
    "newX = dfDirty\n",
    "RSS= sum((lowy_train-lowY_hat)**2)\n",
    "print('RSS : ' + str(RSS))\n",
    "TSS= sum((lowy_train-Y_bar)**2)\n",
    "MSE = (sum((lowy_train - lowY_hat) ** 2)) / (len(newX) - len(newX.columns))\n",
    "print('MSE : ' + str(MSE))\n",
    "F_statistic=((TSS-RSS)/len(lowX_train))/MSE\n",
    "var_b = MSE*(np.linalg.inv(np.dot(newX.T,newX)).diagonal())\n",
    "sd_b = np.sqrt(var_b)\n",
    "ts_b = params/ sd_b\n",
    "p_values =[2*(1-stats.t.cdf(np.abs(i),(len(newX)-1))) for i in ts_b]\n",
    "sd_b = np.round(sd_b,3)\n",
    "ts_b = np.round(ts_b,3)\n",
    "p_values = np.round(p_values,3)\n",
    "params = np.round(params,4)\n",
    "\n",
    "\n",
    "myDF3 = pd.DataFrame()\n",
    "a=list(X_copy.columns.values)\n",
    "a.insert(0,\"Intercept\")\n",
    "myDF3[\"Coefficient Names\"],myDF3[\"Coefficient\"],myDF3[\"Std. Error\"],myDF3[\"t-statistic\"],myDF3[\"P-value\"] = [np.array(a),params,sd_b,ts_b,p_values]\n",
    "print(myDF3)\n",
    "print(\"F-statistic=\",F_statistic )\n"
   ]
  },
  {
   "cell_type": "code",
   "execution_count": 16,
   "metadata": {},
   "outputs": [],
   "source": [
    "lowData = []\n",
    "lowData = pd.DataFrame(lowX_train)\n",
    "lowData.columns = ['Open', 'Ma', 'Rsi', 'CCI', 'adx', 'Macd', 'atr', 'Chaiken', 'HighLow', 'Aligator', 'AC', 'AD']\n",
    "lowData['Actual Low'] = lowy_train\n",
    "lowData['Predicted Low'] = lowY_hat\n",
    "lowData.to_csv('low data prediction.csv',index=False)"
   ]
  },
  {
   "cell_type": "code",
   "execution_count": 17,
   "metadata": {},
   "outputs": [
    {
     "data": {
      "image/png": "[encoded data removed]",
      "text/plain": [
       "<Figure size 432x288 with 1 Axes>"
      ]
     },
     "metadata": {
      "needs_background": "light"
     },
     "output_type": "display_data"
    }
   ],
   "source": [
    "# plot\n",
    "\n",
    "XX = lowX_train[:,-1]\n",
    "plt.scatter(np.sort(XX) ,lowy_train)\n",
    "plt.plot(np.sort(XX) ,lowY_hat ,color='red');\n",
    "plt.show()"
   ]
  },
  {
   "cell_type": "code",
   "execution_count": 18,
   "metadata": {},
   "outputs": [],
   "source": [
    "\n",
    "highX_train, highX_test, highy_train, highy_test = train_test_split(\n",
    "    X, high, test_size=0.1, random_state=0)"
   ]
  },
  {
   "cell_type": "code",
   "execution_count": 19,
   "metadata": {},
   "outputs": [
    {
     "name": "stdout",
     "output_type": "stream",
     "text": [
      "RSS : 112002093.13038266\n",
      "MSE : 6332.452825825898\n",
      "   Coefficient Names  Coefficient  Std. Error  t-statistic  P-value\n",
      "0          Intercept  -83040.0648      20.513    -4048.237    0.000\n",
      "1               Open   96066.3139     428.912      223.977    0.000\n",
      "2                 Ma    1919.0475  146234.457        0.013    0.990\n",
      "3                Rsi       2.7177       0.164       16.585    0.000\n",
      "4                CCI       0.2372       0.010       24.522    0.000\n",
      "5                adx      -0.0290       0.065       -0.447    0.655\n",
      "6               Macd  -28239.0563    1199.391      -23.545    0.000\n",
      "7                atr   41434.8418    1285.274       32.238    0.000\n",
      "8            Chaiken      -0.0000       0.000       -1.986    0.047\n",
      "9            HighLow      -0.0001       0.000       -2.744    0.006\n",
      "10          Aligator    1919.0487  146231.018        0.013    0.990\n",
      "11                AC  -13638.6014     821.017      -16.612    0.000\n",
      "12                AD      -0.0000       0.000       -0.862    0.388\n",
      "F-statistic= 1194782.7328303617\n"
     ]
    }
   ],
   "source": [
    "LRmodel = LR()\n",
    "\n",
    "X_copy=eurusdH4[eurusdH4.columns[3:15]]\n",
    "\n",
    "\n",
    "# X=X._values\n",
    "# y=y._values\n",
    "\n",
    "LRmodel.fit(highX_train, highy_train)\n",
    "params = np.append(LRmodel.intercept_, LRmodel.coef_)\n",
    "highY_hat = LRmodel.predict(highX_train)\n",
    "Y_bar=LRmodel.intercept_\n",
    "newX = pd.DataFrame({\"Constant\":np.ones(len(highX_train))}).join(pd.DataFrame(highX_train))\n",
    "dfDirty = newX+0.00001*np.random.rand(len(newX['Constant']), 13)\n",
    "newX = dfDirty\n",
    "RSS= sum((highy_train-highY_hat)**2)\n",
    "print('RSS : ' + str(RSS))\n",
    "TSS= sum((highy_train-Y_bar)**2)\n",
    "MSE = (sum((highy_train - highY_hat) ** 2)) / (len(newX) - len(newX.columns))\n",
    "print('MSE : ' + str(MSE))\n",
    "F_statistic=((TSS-RSS)/len(highX_train))/MSE\n",
    "var_b = MSE*(np.linalg.inv(np.dot(newX.T,newX)).diagonal())\n",
    "sd_b = np.sqrt(var_b)\n",
    "ts_b = params/ sd_b\n",
    "p_values =[2*(1-stats.t.cdf(np.abs(i),(len(newX)-1))) for i in ts_b]\n",
    "sd_b = np.round(sd_b,3)\n",
    "ts_b = np.round(ts_b,3)\n",
    "p_values = np.round(p_values,3)\n",
    "params = np.round(params,4)\n",
    "\n",
    "\n",
    "myDF3 = pd.DataFrame()\n",
    "a=list(X_copy.columns.values)\n",
    "a.insert(0,\"Intercept\")\n",
    "myDF3[\"Coefficient Names\"],myDF3[\"Coefficient\"],myDF3[\"Std. Error\"],myDF3[\"t-statistic\"],myDF3[\"P-value\"] = [np.array(a),params,sd_b,ts_b,p_values]\n",
    "print(myDF3)\n",
    "print(\"F-statistic=\",F_statistic )"
   ]
  },
  {
   "cell_type": "code",
   "execution_count": 21,
   "metadata": {},
   "outputs": [],
   "source": [
    "highData = []\n",
    "highData = pd.DataFrame(highX_train)\n",
    "highData.columns = ['Open', 'Ma', 'Rsi', 'CCI', 'adx', 'Macd', 'atr', 'Chaiken', 'HighLow', 'Aligator', 'AC', 'AD']\n",
    "highData['Actual High'] = highy_train\n",
    "highData['Predicted High'] = highY_hat\n",
    "highData.to_csv('High data prediction.csv',index=False)"
   ]
  },
  {
   "cell_type": "code",
   "execution_count": 22,
   "metadata": {},
   "outputs": [
    {
     "data": {
      "image/png": "[encoded data removed]",
      "text/plain": [
       "<Figure size 432x288 with 1 Axes>"
      ]
     },
     "metadata": {
      "needs_background": "light"
     },
     "output_type": "display_data"
    }
   ],
   "source": [
    "# plot\n",
    "\n",
    "XX = highX_train[:,-1]\n",
    "plt.scatter(np.sort(XX) ,highy_train)\n",
    "plt.plot(np.sort(XX) ,highY_hat ,color='red');\n",
    "plt.show()"
   ]
  },
  {
   "cell_type": "code",
   "execution_count": 23,
   "metadata": {},
   "outputs": [],
   "source": [
    "meanX_train, meanX_test, meany_train, meany_test = train_test_split(\n",
    "    X, mean, test_size=0.1, random_state=0)"
   ]
  },
  {
   "cell_type": "code",
   "execution_count": 24,
   "metadata": {},
   "outputs": [
    {
     "name": "stdout",
     "output_type": "stream",
     "text": [
      "RSS : 43607484.37376607\n",
      "MSE : 2465.5105090612356\n",
      "   Coefficient Names  Coefficient  Std. Error  t-statistic  P-value\n",
      "0          Intercept  -83062.0445      12.799    -6489.971    0.000\n",
      "1               Open   88915.0640     267.631      332.230    0.000\n",
      "2                 Ma    5522.0277   91491.713        0.060    0.952\n",
      "3                Rsi       1.6724       0.102       16.356    0.000\n",
      "4                CCI       0.2523       0.006       41.813    0.000\n",
      "5                adx      -0.0269       0.040       -0.665    0.506\n",
      "6               Macd   -8804.1265     748.459      -11.763    0.000\n",
      "7                atr   10444.7013     802.112       13.022    0.000\n",
      "8            Chaiken       0.0000       0.000        3.289    0.001\n",
      "9            HighLow      -0.0003       0.000       -8.359    0.000\n",
      "10          Aligator    5522.0282   91490.250        0.060    0.952\n",
      "11                AC   -3323.7630     512.306       -6.488    0.000\n",
      "12                AD       0.0000       0.000        0.516    0.606\n",
      "F-statistic= 3065901.9228522964\n"
     ]
    }
   ],
   "source": [
    "LRmodel = LR()\n",
    "\n",
    "X_copy=eurusdH4[eurusdH4.columns[3:15]]\n",
    "\n",
    "\n",
    "# X=X._values\n",
    "# y=y._values\n",
    "\n",
    "LRmodel.fit(meanX_train, meany_train)\n",
    "params = np.append(LRmodel.intercept_, LRmodel.coef_)\n",
    "meanY_hat = LRmodel.predict(meanX_train)\n",
    "Y_bar=LRmodel.intercept_\n",
    "newX = pd.DataFrame({\"Constant\":np.ones(len(meanX_train))}).join(pd.DataFrame(meanX_train))\n",
    "dfDirty = newX+0.00001*np.random.rand(len(newX['Constant']), 13)\n",
    "newX = dfDirty\n",
    "RSS= sum((meany_train-meanY_hat)**2)\n",
    "print('RSS : ' + str(RSS))\n",
    "TSS= sum((meany_train-Y_bar)**2)\n",
    "MSE = (sum((meany_train - meanY_hat) ** 2)) / (len(newX) - len(newX.columns))\n",
    "print('MSE : ' + str(MSE))\n",
    "F_statistic=((TSS-RSS)/len(meanX_train))/MSE\n",
    "var_b = MSE*(np.linalg.inv(np.dot(newX.T,newX)).diagonal())\n",
    "sd_b = np.sqrt(var_b)\n",
    "ts_b = params/ sd_b\n",
    "p_values =[2*(1-stats.t.cdf(np.abs(i),(len(newX)-1))) for i in ts_b]\n",
    "sd_b = np.round(sd_b,3)\n",
    "ts_b = np.round(ts_b,3)\n",
    "p_values = np.round(p_values,3)\n",
    "params = np.round(params,4)\n",
    "\n",
    "\n",
    "myDF3 = pd.DataFrame()\n",
    "a=list(X_copy.columns.values)\n",
    "a.insert(0,\"Intercept\")\n",
    "myDF3[\"Coefficient Names\"],myDF3[\"Coefficient\"],myDF3[\"Std. Error\"],myDF3[\"t-statistic\"],myDF3[\"P-value\"] = [np.array(a),params,sd_b,ts_b,p_values]\n",
    "print(myDF3)\n",
    "print(\"F-statistic=\",F_statistic )"
   ]
  },
  {
   "cell_type": "code",
   "execution_count": null,
   "metadata": {},
   "outputs": [],
   "source": [
    "meanData = []\n",
    "meanData = pd.DataFrame(meanX_train)\n",
    "meanData.columns = ['Open', 'Ma', 'Rsi', 'CCI', 'adx', 'Macd', 'atr', 'Chaiken', 'HighLow', 'Aligator', 'AC', 'AD']\n",
    "meanData['Actual Mean'] = meany_train\n",
    "meanData['Predicted Mean'] = meanY_hat\n",
    "meanData.to_csv('Mean data prediction.csv',index=False)"
   ]
  },
  {
   "cell_type": "code",
   "execution_count": 25,
   "metadata": {},
   "outputs": [
    {
     "name": "stdout",
     "output_type": "stream",
     "text": [
      "17700 17700\n"
     ]
    },
    {
     "data": {
      "image/png": "[encoded data removed]",
      "text/plain": [
       "<Figure size 432x288 with 1 Axes>"
      ]
     },
     "metadata": {
      "needs_background": "light"
     },
     "output_type": "display_data"
    }
   ],
   "source": [
    "# plot\n",
    "\n",
    "XX = meanX_train[:,-1]\n",
    "print(len(np.sort(XX)), len(meany_train))\n",
    "plt.scatter(np.sort(XX) ,meany_train)\n",
    "plt.plot(np.sort(XX) ,meanY_hat ,color='red');\n",
    "plt.show()"
   ]
  },
  {
   "cell_type": "code",
   "execution_count": 28,
   "metadata": {},
   "outputs": [
    {
     "name": "stdout",
     "output_type": "stream",
     "text": [
      "17700 19667\n",
      "16678\n"
     ]
    }
   ],
   "source": [
    "\n",
    "print(len(meanY_hat), len(low))\n",
    "\n",
    "gg = np.sum(meanY_hat >= lowy_train)\n",
    "print(gg)"
   ]
  },
  {
   "cell_type": "code",
   "execution_count": 29,
   "metadata": {},
   "outputs": [
    {
     "name": "stdout",
     "output_type": "stream",
     "text": [
      "16786\n"
     ]
    }
   ],
   "source": [
    "gg1 = np.sum(meanY_hat <= highy_train)\n",
    "print(gg1)"
   ]
  },
  {
   "cell_type": "code",
   "execution_count": 30,
   "metadata": {},
   "outputs": [
    {
     "name": "stdout",
     "output_type": "stream",
     "text": [
      "10812\n"
     ]
    }
   ],
   "source": [
    "highg = np.sum(highY_hat >=highy_train)\n",
    "print(highg)"
   ]
  },
  {
   "cell_type": "code",
   "execution_count": 31,
   "metadata": {},
   "outputs": [
    {
     "name": "stdout",
     "output_type": "stream",
     "text": [
      "10999\n"
     ]
    }
   ],
   "source": [
    "lowg = np.sum(lowY_hat < lowy_train)\n",
    "print(lowg)"
   ]
  },
  {
   "cell_type": "code",
   "execution_count": 32,
   "metadata": {},
   "outputs": [
    {
     "name": "stdout",
     "output_type": "stream",
     "text": [
      "[6516.71746315 -465.32014047 1385.15476389 ... 5156.17355221 7151.04324725\n",
      " 7542.05435001]\n"
     ]
    }
   ],
   "source": [
    "print(meanY_hat)"
   ]
  },
  {
   "cell_type": "code",
   "execution_count": null,
   "metadata": {},
   "outputs": [],
   "source": []
  }
 ],
 "metadata": {
  "kernelspec": {
   "display_name": "Python 3",
   "language": "python",
   "name": "python3"
  },
  "language_info": {
   "codemirror_mode": {
    "name": "ipython",
    "version": 3
   },
   "file_extension": ".py",
   "mimetype": "text/x-python",
   "name": "python",
   "nbconvert_exporter": "python",
   "pygments_lexer": "ipython3",
   "version": "3.6.7"
  }
 },
 "nbformat": 4,
 "nbformat_minor": 2
}
