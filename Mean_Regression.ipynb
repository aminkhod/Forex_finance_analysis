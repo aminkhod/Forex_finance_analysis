{
 "cells": [
  {
   "cell_type": "code",
   "execution_count": 38,
   "metadata": {},
   "outputs": [],
   "source": [
    "import pandas as pd\n",
    "from sklearn.linear_model import LinearRegression as LR\n",
    "import matplotlib.pyplot as plt\n",
    "import numpy as np\n",
    "# from sklearn.model_selection import train_test_split\n",
    "from scipy import stats"
   ]
  },
  {
   "cell_type": "code",
   "execution_count": 39,
   "metadata": {},
   "outputs": [
    {
     "name": "stdout",
     "output_type": "stream",
     "text": [
      "(19665, 20)\n"
     ]
    }
   ],
   "source": [
    "\n",
    "missing = [' ']\n",
    "eurusdH4 = pd.read_csv(\"EuroGBP_H1.csv\", na_values = missing)\n",
    "eurusdH4.dropna(inplace = True) \n",
    "print(eurusdH4.shape)\n",
    "mean = eurusdH4['Mean']\n",
    "low = eurusdH4['Low']\n",
    "high = eurusdH4['High']"
   ]
  },
  {
   "cell_type": "code",
   "execution_count": 40,
   "metadata": {},
   "outputs": [],
   "source": [
    "X = eurusdH4.values[:,3:16]"
   ]
  },
  {
   "cell_type": "code",
   "execution_count": 41,
   "metadata": {},
   "outputs": [],
   "source": [
    "# X[1][0]"
   ]
  },
  {
   "cell_type": "code",
   "execution_count": 42,
   "metadata": {},
   "outputs": [],
   "source": [
    "# lowX_train, lowX_test, lowy_train, lowy_test = train_test_split(\n",
    "#     X, low, test_size=0.1, random_state=0)"
   ]
  },
  {
   "cell_type": "code",
   "execution_count": 43,
   "metadata": {},
   "outputs": [
    {
     "name": "stdout",
     "output_type": "stream",
     "text": [
      "RSS : 53730147.41210808\n",
      "MSE : 2734.21950089604\n",
      "   Coefficient Names  Coefficient  Std. Error  t-statistic  P-value\n",
      "0          Intercept  -83045.1699      12.810    -6482.618    0.000\n",
      "1               Open   47513.9715     472.318      100.597    0.000\n",
      "2                 Ma    4253.1624  914071.676        0.005    0.996\n",
      "3                Rsi      -0.5069       0.103       -4.913    0.000\n",
      "4                CCI       0.0515       0.007        7.882    0.000\n",
      "5                adx      -0.0009       0.041       -0.021    0.983\n",
      "6               Macd   16319.7379     750.755       21.738    0.000\n",
      "7                atr  -29158.9412     810.435      -35.979    0.000\n",
      "8            Chaiken       0.0000       0.000        6.827    0.000\n",
      "9            HighLow      -0.0003       0.000       -9.845    0.000\n",
      "10          Aligator    4253.1641  914069.529        0.005    0.996\n",
      "11                AC   11426.4632     518.612       22.033    0.000\n",
      "12                AD       0.0000       0.000        1.564    0.118\n",
      "13             Close   44027.5945     504.174       87.326    0.000\n",
      "F-statistic= 2759928.8070621686\n"
     ]
    }
   ],
   "source": [
    "LRmodel = LR()\n",
    "\n",
    "X_copy=eurusdH4[eurusdH4.columns[3:16]]\n",
    "\n",
    "\n",
    "# X=X._values\n",
    "# y=y._values\n",
    "\n",
    "LRmodel.fit(X, low)\n",
    "params = np.append(LRmodel.intercept_, LRmodel.coef_)\n",
    "lowY_hat = LRmodel.predict(X)\n",
    "Y_bar=LRmodel.intercept_\n",
    "newX = pd.DataFrame({\"Constant\":np.ones(len(X))}).join(pd.DataFrame(X))\n",
    "dfDirty = newX+0.000001*np.random.rand(len(newX['Constant']), 14)\n",
    "newX = dfDirty\n",
    "newX=newX.astype(\"Float64\") \n",
    "RSS= sum((low-lowY_hat)**2)\n",
    "print('RSS : ' + str(RSS))\n",
    "TSS= sum((low-Y_bar)**2)\n",
    "MSE = (sum((low - lowY_hat) ** 2)) / (len(newX) - len(newX.columns))\n",
    "print('MSE : ' + str(MSE))\n",
    "F_statistic=((TSS-RSS)/len(X))/MSE\n",
    "var_b = MSE*(np.linalg.inv(np.dot(newX.T,newX)).diagonal())\n",
    "sd_b = np.sqrt(var_b)\n",
    "ts_b = params/ sd_b\n",
    "p_values =[2*(1-stats.t.cdf(np.abs(i),(len(newX)-1))) for i in ts_b]\n",
    "sd_b = np.round(sd_b,3)\n",
    "ts_b = np.round(ts_b,3)\n",
    "p_values = np.round(p_values,3)\n",
    "params = np.round(params,4)\n",
    "\n",
    "\n",
    "myDF3 = pd.DataFrame()\n",
    "a=list(X_copy.columns.values)\n",
    "a.insert(0,\"Intercept\")\n",
    "myDF3[\"Coefficient Names\"],myDF3[\"Coefficient\"],myDF3[\"Std. Error\"],myDF3[\"t-statistic\"],myDF3[\"P-value\"] = [np.array(a),params,sd_b,ts_b,p_values]\n",
    "print(myDF3)\n",
    "print(\"F-statistic=\",F_statistic )\n"
   ]
  },
  {
   "cell_type": "code",
   "execution_count": 44,
   "metadata": {},
   "outputs": [],
   "source": [
    "lowData = []\n",
    "lowData = pd.DataFrame(eurusdH4[eurusdH4.columns[3:]])\n",
    "lowData.columns = ['Open', 'Ma', 'Rsi', 'CCI', 'adx', 'Macd', 'atr', 'Chaiken',\n",
    "                   'HighLow', 'Aligator', 'AC', 'AD', 'Date', 'Close', 'Dt',\n",
    "                   'Mom-BollObv', 'Adx-Boll']\n",
    "lowData['Actual Low'] = low\n",
    "lowData['Predicted Low'] = lowY_hat\n",
    "lowData.to_csv('low data prediction.csv',index=False)"
   ]
  },
  {
   "cell_type": "code",
   "execution_count": 45,
   "metadata": {},
   "outputs": [
    {
     "data": {
      "image/png": "[encoded data removed]",
      "text/plain": [
       "<Figure size 432x288 with 2 Axes>"
      ]
     },
     "metadata": {
      "needs_background": "light"
     },
     "output_type": "display_data"
    }
   ],
   "source": [
    "# plot\n",
    "\n",
    "XX = X[:,-1]\n",
    "# plt.figure(figsize=(2, 2))\n",
    "f, (ax1, ax2) = plt.subplots(2,1)\n",
    "ax1.scatter(np.sort(XX) ,low)\n",
    "ax1.set_title('Actual Low')\n",
    "ax2.plot(np.sort(XX) ,lowY_hat ,color='red');\n",
    "ax2.set_title('Predicted Low')\n",
    "\n",
    "plt.tight_layout()\n",
    "# plt.show()"
   ]
  },
  {
   "cell_type": "code",
   "execution_count": 46,
   "metadata": {},
   "outputs": [
    {
     "name": "stdout",
     "output_type": "stream",
     "text": [
      "RSS : 75577905.11105281\n",
      "MSE : 3846.0080968425427\n",
      "   Coefficient Names  Coefficient   Std. Error  t-statistic  P-value\n",
      "0          Intercept  -82985.8075       15.195    -5461.457    0.000\n",
      "1               Open   44198.7900      560.173       78.902    0.000\n",
      "2                 Ma   -5741.4173  1083414.038       -0.005    0.996\n",
      "3                Rsi       0.9786        0.122        7.997    0.000\n",
      "4                CCI      -0.0951        0.008      -12.274    0.000\n",
      "5                adx      -0.0020        0.048       -0.042    0.966\n",
      "6               Macd  -20338.9382      890.394      -22.843    0.000\n",
      "7                atr   30027.8546      961.162       31.241    0.000\n",
      "8            Chaiken      -0.0000        0.000       -6.420    0.000\n",
      "9            HighLow       0.0000        0.000        0.485    0.627\n",
      "10          Aligator   -5741.4195  1083412.658       -0.005    0.996\n",
      "11                AC   -7751.6930      615.017      -12.604    0.000\n",
      "12                AD      -0.0000        0.000       -2.094    0.036\n",
      "13             Close   67244.9886      597.941      112.461    0.000\n",
      "F-statistic= 1964994.3394881687\n"
     ]
    }
   ],
   "source": [
    "LRmodel = LR()\n",
    "\n",
    "X_copy=eurusdH4[eurusdH4.columns[3:16]]\n",
    "\n",
    "\n",
    "# X=X._values\n",
    "# y=y._values\n",
    "\n",
    "LRmodel.fit(X, high)\n",
    "params = np.append(LRmodel.intercept_, LRmodel.coef_)\n",
    "highY_hat = LRmodel.predict(X)\n",
    "Y_bar=LRmodel.intercept_\n",
    "newX = pd.DataFrame({\"Constant\":np.ones(len(X))}).join(pd.DataFrame(X))\n",
    "dfDirty = newX+0.000001*np.random.rand(len(newX['Constant']), 14)\n",
    "newX = dfDirty\n",
    "newX=newX.astype(\"Float64\") \n",
    "RSS= sum((high-highY_hat)**2)\n",
    "print('RSS : ' + str(RSS))\n",
    "TSS= sum((high - Y_bar)**2)\n",
    "MSE = (sum((high - highY_hat) ** 2)) / (len(newX) - len(newX.columns))\n",
    "print('MSE : ' + str(MSE))\n",
    "F_statistic=((TSS-RSS)/len(X))/MSE\n",
    "var_b = MSE*(np.linalg.inv(np.dot(newX.T,newX)).diagonal())\n",
    "sd_b = np.sqrt(var_b)\n",
    "ts_b = params/ sd_b\n",
    "p_values =[2*(1-stats.t.cdf(np.abs(i),(len(newX)-1))) for i in ts_b]\n",
    "sd_b = np.round(sd_b,3)\n",
    "ts_b = np.round(ts_b,3)\n",
    "p_values = np.round(p_values,3)\n",
    "params = np.round(params,4)\n",
    "\n",
    "\n",
    "myDF3 = pd.DataFrame()\n",
    "a=list(X_copy.columns.values)\n",
    "a.insert(0,\"Intercept\")\n",
    "myDF3[\"Coefficient Names\"],myDF3[\"Coefficient\"],myDF3[\"Std. Error\"],myDF3[\"t-statistic\"],myDF3[\"P-value\"] = [np.array(a),params,sd_b,ts_b,p_values]\n",
    "print(myDF3)\n",
    "print(\"F-statistic=\",F_statistic )"
   ]
  },
  {
   "cell_type": "code",
   "execution_count": 47,
   "metadata": {},
   "outputs": [],
   "source": [
    "highData = []\n",
    "highData = pd.DataFrame(eurusdH4[eurusdH4.columns[3:]])\n",
    "highData.columns = ['Open', 'Ma', 'Rsi', 'CCI', 'adx', 'Macd', 'atr', 'Chaiken',\n",
    "                   'HighLow', 'Aligator', 'AC', 'AD', 'Date', 'Close', 'Dt',\n",
    "                   'Mom-BollObv', 'Adx-Boll']\n",
    "highData['Actual High'] = high\n",
    "highData['Predicted High'] = highY_hat\n",
    "highData.to_csv('High data prediction.csv',index=False)"
   ]
  },
  {
   "cell_type": "code",
   "execution_count": 48,
   "metadata": {},
   "outputs": [
    {
     "data": {
      "image/png": "[encoded data removed]",
      "text/plain": [
       "<Figure size 432x288 with 2 Axes>"
      ]
     },
     "metadata": {
      "needs_background": "light"
     },
     "output_type": "display_data"
    }
   ],
   "source": [
    "# plot\n",
    "\n",
    "XX = X[:,-1]\n",
    "# plt.figure(figsize=(2, 2))\n",
    "f, (ax1, ax2) = plt.subplots(2,1)\n",
    "ax1.scatter(np.sort(XX) ,high)\n",
    "ax1.set_title('Actual High')\n",
    "ax2.plot(np.sort(XX) ,highY_hat ,color='red');\n",
    "ax2.set_title('Predicted High')\n",
    "\n",
    "plt.tight_layout()\n",
    "plt.show()"
   ]
  },
  {
   "cell_type": "code",
   "execution_count": 49,
   "metadata": {},
   "outputs": [],
   "source": [
    "# meanX_train, meanX_test, meany_train, meany_test = train_test_split(\n",
    "#     X, mean, test_size=0.1, random_state=0)"
   ]
  },
  {
   "cell_type": "code",
   "execution_count": 50,
   "metadata": {},
   "outputs": [
    {
     "name": "stdout",
     "output_type": "stream",
     "text": [
      "RSS : 14820372.935880873\n",
      "MSE : 754.1790715933475\n",
      "   Coefficient Names  Coefficient  Std. Error  t-statistic  P-value\n",
      "0          Intercept  -83015.4887       6.728   -12338.585    0.000\n",
      "1               Open   45856.3807     248.056      184.863    0.000\n",
      "2                 Ma    -744.1274   48158.854       -0.015    0.988\n",
      "3                Rsi       0.2358       0.054        4.352    0.000\n",
      "4                CCI      -0.0218       0.003       -6.355    0.000\n",
      "5                adx      -0.0015       0.021       -0.068    0.946\n",
      "6               Macd   -2009.6002     394.294       -5.097    0.000\n",
      "7                atr     434.4567     425.677        1.021    0.307\n",
      "8            Chaiken      -0.0000       0.000       -0.750    0.453\n",
      "9            HighLow      -0.0001       0.000       -8.825    0.000\n",
      "10          Aligator    -744.1277   48159.962       -0.015    0.988\n",
      "11                AC    1837.3851     272.354        6.746    0.000\n",
      "12                AD      -0.0000       0.000       -0.874    0.382\n",
      "13             Close   55636.2915     264.780      210.123    0.000\n",
      "F-statistic= 10013293.227371197\n"
     ]
    }
   ],
   "source": [
    "LRmodel = LR()\n",
    "\n",
    "X_copy=eurusdH4[eurusdH4.columns[3:16]]\n",
    "\n",
    "\n",
    "# X=X._values\n",
    "# y=y._values\n",
    "\n",
    "LRmodel.fit(X, mean)\n",
    "params = np.append(LRmodel.intercept_, LRmodel.coef_)\n",
    "meanY_hat = LRmodel.predict(X)\n",
    "Y_bar=LRmodel.intercept_\n",
    "newX = pd.DataFrame({\"Constant\":np.ones(len(X))}).join(pd.DataFrame(X))\n",
    "dfDirty = newX+0.00001*np.random.rand(len(newX['Constant']), 14)\n",
    "newX = dfDirty\n",
    "newX=newX.astype(\"Float64\") \n",
    "RSS= sum((mean-meanY_hat)**2)\n",
    "print('RSS : ' + str(RSS))\n",
    "TSS= sum((mean-Y_bar)**2)\n",
    "MSE = (sum((mean - meanY_hat) ** 2)) / (len(newX) - len(newX.columns))\n",
    "print('MSE : ' + str(MSE))\n",
    "F_statistic=((TSS-RSS)/len(X))/MSE\n",
    "var_b = MSE*(np.linalg.inv(np.dot(newX.T,newX)).diagonal())\n",
    "sd_b = np.sqrt(var_b)\n",
    "ts_b = params/ sd_b\n",
    "p_values =[2*(1-stats.t.cdf(np.abs(i),(len(newX)-1))) for i in ts_b]\n",
    "sd_b = np.round(sd_b,3)\n",
    "ts_b = np.round(ts_b,3)\n",
    "p_values = np.round(p_values,3)\n",
    "params = np.round(params,4)\n",
    "\n",
    "\n",
    "myDF3 = pd.DataFrame()\n",
    "a=list(X_copy.columns.values)\n",
    "a.insert(0,\"Intercept\")\n",
    "myDF3[\"Coefficient Names\"],myDF3[\"Coefficient\"],myDF3[\"Std. Error\"],myDF3[\"t-statistic\"],myDF3[\"P-value\"] = [np.array(a),params,sd_b,ts_b,p_values]\n",
    "print(myDF3)\n",
    "print(\"F-statistic=\",F_statistic )"
   ]
  },
  {
   "cell_type": "code",
   "execution_count": 51,
   "metadata": {},
   "outputs": [],
   "source": [
    "meanData = []\n",
    "meanData = pd.DataFrame(eurusdH4[eurusdH4.columns[3:]])\n",
    "meanData.columns = ['Open', 'Ma', 'Rsi', 'CCI', 'adx', 'Macd', 'atr', 'Chaiken',\n",
    "                   'HighLow', 'Aligator', 'AC', 'AD', 'Date', 'Close', 'Dt',\n",
    "                   'Mom-BollObv', 'Adx-Boll']\n",
    "meanData['Actual Mean'] = mean\n",
    "meanData['Predicted Mean'] = meanY_hat\n",
    "meanData.to_csv('Mean data prediction.csv',index=False)"
   ]
  },
  {
   "cell_type": "code",
   "execution_count": 52,
   "metadata": {},
   "outputs": [
    {
     "data": {
      "image/png": "[encoded data removed]",
      "text/plain": [
       "<Figure size 432x288 with 2 Axes>"
      ]
     },
     "metadata": {
      "needs_background": "light"
     },
     "output_type": "display_data"
    }
   ],
   "source": [
    "# plot\n",
    "\n",
    "XX = X[:,-1]\n",
    "# plt.figure(figsize=(2, 2))\n",
    "f, (ax1, ax2) = plt.subplots(2,1)\n",
    "ax1.scatter(np.sort(XX) ,mean)\n",
    "ax1.set_title('Actual Mean')\n",
    "ax2.plot(np.sort(XX) ,meanY_hat ,color='red');\n",
    "ax2.set_title('Predicted Mean')\n",
    "\n",
    "plt.tight_layout()\n",
    "plt.show()"
   ]
  },
  {
   "cell_type": "code",
   "execution_count": 53,
   "metadata": {},
   "outputs": [
    {
     "name": "stdout",
     "output_type": "stream",
     "text": [
      "19665 19665\n",
      "19662\n"
     ]
    }
   ],
   "source": [
    "\n",
    "print(len(meanY_hat), len(low))\n",
    "\n",
    "gg = np.sum(meanY_hat >= low)\n",
    "print(gg)"
   ]
  },
  {
   "cell_type": "code",
   "execution_count": 54,
   "metadata": {},
   "outputs": [
    {
     "name": "stdout",
     "output_type": "stream",
     "text": [
      "19657\n"
     ]
    }
   ],
   "source": [
    "gg1 = np.sum(meanY_hat <= high)\n",
    "print(gg1)\n"
   ]
  },
  {
   "cell_type": "code",
   "execution_count": 55,
   "metadata": {},
   "outputs": [
    {
     "name": "stdout",
     "output_type": "stream",
     "text": [
      "2\n"
     ]
    }
   ],
   "source": [
    "gg1 = np.sum(highY_hat <= low)\n",
    "print(gg1)"
   ]
  },
  {
   "cell_type": "code",
   "execution_count": 56,
   "metadata": {},
   "outputs": [
    {
     "name": "stdout",
     "output_type": "stream",
     "text": [
      "2\n"
     ]
    }
   ],
   "source": [
    "gg1 = np.sum(lowY_hat >= high)\n",
    "print(gg1)"
   ]
  },
  {
   "cell_type": "code",
   "execution_count": 57,
   "metadata": {},
   "outputs": [
    {
     "name": "stdout",
     "output_type": "stream",
     "text": [
      "12269\n"
     ]
    }
   ],
   "source": [
    "highg = np.sum(highY_hat >=high)\n",
    "print(highg)"
   ]
  },
  {
   "cell_type": "code",
   "execution_count": 58,
   "metadata": {},
   "outputs": [
    {
     "name": "stdout",
     "output_type": "stream",
     "text": [
      "12291\n"
     ]
    }
   ],
   "source": [
    "lowg = np.sum(lowY_hat < low)\n",
    "print(lowg)"
   ]
  },
  {
   "cell_type": "code",
   "execution_count": 59,
   "metadata": {},
   "outputs": [
    {
     "name": "stdout",
     "output_type": "stream",
     "text": [
      "[-4047.75802711 -4049.20493752 -4082.09844776 ...  6101.49457501\n",
      "  6100.68417767  6084.64769218]\n"
     ]
    }
   ],
   "source": [
    "print(meanY_hat)"
   ]
  },
  {
   "cell_type": "code",
   "execution_count": 60,
   "metadata": {},
   "outputs": [
    {
     "data": {
      "text/plain": [
       "648"
      ]
     },
     "execution_count": 60,
     "metadata": {},
     "output_type": "execute_result"
    }
   ],
   "source": [
    "666-18\n"
   ]
  },
  {
   "cell_type": "code",
   "execution_count": 37,
   "metadata": {},
   "outputs": [
    {
     "data": {
      "text/plain": [
       "0.9302349232177362"
      ]
     },
     "execution_count": 37,
     "metadata": {},
     "output_type": "execute_result"
    }
   ],
   "source": [
    "18294/19666"
   ]
  },
  {
   "cell_type": "code",
   "execution_count": 93,
   "metadata": {},
   "outputs": [
    {
     "data": {
      "text/plain": [
       "18294"
      ]
     },
     "execution_count": 93,
     "metadata": {},
     "output_type": "execute_result"
    }
   ],
   "source": [
    "19666-1372"
   ]
  },
  {
   "cell_type": "code",
   "execution_count": null,
   "metadata": {},
   "outputs": [],
   "source": []
  }
 ],
 "metadata": {
  "kernelspec": {
   "display_name": "Python 3",
   "language": "python",
   "name": "python3"
  },
  "language_info": {
   "codemirror_mode": {
    "name": "ipython",
    "version": 3
   },
   "file_extension": ".py",
   "mimetype": "text/x-python",
   "name": "python",
   "nbconvert_exporter": "python",
   "pygments_lexer": "ipython3",
   "version": "3.6.7"
  }
 },
 "nbformat": 4,
 "nbformat_minor": 2
}
