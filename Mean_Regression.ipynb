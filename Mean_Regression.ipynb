{
 "cells": [
  {
   "cell_type": "code",
   "execution_count": 102,
   "metadata": {},
   "outputs": [],
   "source": [
    "import pandas as pd\n",
    "from sklearn.linear_model import LinearRegression as LR\n",
    "import matplotlib.pyplot as plt\n",
    "import numpy as np\n",
    "# from sklearn.model_selection import train_test_split\n",
    "from scipy import stats"
   ]
  },
  {
   "cell_type": "code",
   "execution_count": 103,
   "metadata": {},
   "outputs": [
    {
     "name": "stdout",
     "output_type": "stream",
     "text": [
      "(19666, 20)\n"
     ]
    }
   ],
   "source": [
    "\n",
    "missing = [' ']\n",
    "eurusdH4 = pd.read_csv(\"EuroGBP_H1.csv\", na_values = missing)\n",
    "eurusdH4.dropna(inplace = True) \n",
    "print(eurusdH4.shape)\n",
    "mean = eurusdH4['Mean']\n",
    "low = eurusdH4['Low']\n",
    "high = eurusdH4['High']"
   ]
  },
  {
   "cell_type": "code",
   "execution_count": 104,
   "metadata": {},
   "outputs": [],
   "source": [
    "X = eurusdH4.values[:,3:16]"
   ]
  },
  {
   "cell_type": "code",
   "execution_count": 105,
   "metadata": {},
   "outputs": [
    {
     "data": {
      "text/plain": [
       "0.89097"
      ]
     },
     "execution_count": 105,
     "metadata": {},
     "output_type": "execute_result"
    }
   ],
   "source": [
    "X[1][0]"
   ]
  },
  {
   "cell_type": "code",
   "execution_count": 106,
   "metadata": {},
   "outputs": [],
   "source": [
    "# lowX_train, lowX_test, lowy_train, lowy_test = train_test_split(\n",
    "#     X, low, test_size=0.1, random_state=0)"
   ]
  },
  {
   "cell_type": "code",
   "execution_count": 107,
   "metadata": {},
   "outputs": [
    {
     "name": "stdout",
     "output_type": "stream",
     "text": [
      "RSS : 69651037.47020699\n",
      "MSE : 3544.2213245576527\n",
      "   Coefficient Names  Coefficient   Std. Error  t-statistic  P-value\n",
      "0          Intercept  -83021.6363       14.595    -5688.539    0.000\n",
      "1               Open   68540.9091      433.998      157.929    0.000\n",
      "2                 Ma    5056.0801  1034684.637        0.005    0.996\n",
      "3                Rsi      -0.3596        0.117       -3.061    0.002\n",
      "4                CCI      -0.0259        0.007       -3.455    0.001\n",
      "5                adx      -0.0387        0.046       -0.835    0.404\n",
      "6               Macd   21405.9133      871.420       24.564    0.000\n",
      "7                atr  -41240.5228      930.172      -44.336    0.000\n",
      "8            Chaiken       0.0000        0.000        2.317    0.021\n",
      "9            HighLow      -0.0003        0.000       -8.180    0.000\n",
      "10          Aligator    5056.0747  1034689.973        0.005    0.996\n",
      "11                AC   18169.4740      586.299       30.990    0.000\n",
      "12                AD       0.0000        0.000        0.180    0.857\n",
      "13             Close   21379.7602      461.259       46.351    0.000\n",
      "F-statistic= 2128004.991717798\n"
     ]
    }
   ],
   "source": [
    "LRmodel = LR()\n",
    "\n",
    "X_copy=eurusdH4[eurusdH4.columns[3:16]]\n",
    "\n",
    "\n",
    "# X=X._values\n",
    "# y=y._values\n",
    "\n",
    "LRmodel.fit(X, low)\n",
    "params = np.append(LRmodel.intercept_, LRmodel.coef_)\n",
    "lowY_hat = LRmodel.predict(X)\n",
    "Y_bar=LRmodel.intercept_\n",
    "newX = pd.DataFrame({\"Constant\":np.ones(len(X))}).join(pd.DataFrame(X))\n",
    "dfDirty = newX+0.000001*np.random.rand(len(newX['Constant']), 14)\n",
    "newX = dfDirty\n",
    "newX=newX.astype(\"Float64\") \n",
    "RSS= sum((low-lowY_hat)**2)\n",
    "print('RSS : ' + str(RSS))\n",
    "TSS= sum((low-Y_bar)**2)\n",
    "MSE = (sum((low - lowY_hat) ** 2)) / (len(newX) - len(newX.columns))\n",
    "print('MSE : ' + str(MSE))\n",
    "F_statistic=((TSS-RSS)/len(X))/MSE\n",
    "var_b = MSE*(np.linalg.inv(np.dot(newX.T,newX)).diagonal())\n",
    "sd_b = np.sqrt(var_b)\n",
    "ts_b = params/ sd_b\n",
    "p_values =[2*(1-stats.t.cdf(np.abs(i),(len(newX)-1))) for i in ts_b]\n",
    "sd_b = np.round(sd_b,3)\n",
    "ts_b = np.round(ts_b,3)\n",
    "p_values = np.round(p_values,3)\n",
    "params = np.round(params,4)\n",
    "\n",
    "\n",
    "myDF3 = pd.DataFrame()\n",
    "a=list(X_copy.columns.values)\n",
    "a.insert(0,\"Intercept\")\n",
    "myDF3[\"Coefficient Names\"],myDF3[\"Coefficient\"],myDF3[\"Std. Error\"],myDF3[\"t-statistic\"],myDF3[\"P-value\"] = [np.array(a),params,sd_b,ts_b,p_values]\n",
    "print(myDF3)\n",
    "print(\"F-statistic=\",F_statistic )\n"
   ]
  },
  {
   "cell_type": "code",
   "execution_count": 108,
   "metadata": {},
   "outputs": [],
   "source": [
    "lowData = []\n",
    "lowData = pd.DataFrame(eurusdH4[eurusdH4.columns[3:]])\n",
    "lowData.columns = ['Open', 'Ma', 'Rsi', 'CCI', 'adx', 'Macd', 'atr', 'Chaiken',\n",
    "                   'HighLow', 'Aligator', 'AC', 'AD', 'Date', 'Close', 'Dt',\n",
    "                   'Mom-BollObv', 'Adx-Boll']\n",
    "lowData['Actual Low'] = low\n",
    "lowData['Predicted Low'] = lowY_hat\n",
    "lowData.to_csv('low data prediction.csv',index=False)"
   ]
  },
  {
   "cell_type": "code",
   "execution_count": 109,
   "metadata": {},
   "outputs": [
    {
     "data": {
      "image/png": "[encoded data removed]",
      "text/plain": [
       "<Figure size 432x288 with 2 Axes>"
      ]
     },
     "metadata": {
      "needs_background": "light"
     },
     "output_type": "display_data"
    }
   ],
   "source": [
    "# plot\n",
    "\n",
    "XX = X[:,-1]\n",
    "# plt.figure(figsize=(2, 2))\n",
    "f, (ax1, ax2) = plt.subplots(2,1)\n",
    "ax1.scatter(np.sort(XX) ,low)\n",
    "ax1.set_title('Actual Low')\n",
    "ax2.plot(np.sort(XX) ,lowY_hat ,color='red');\n",
    "ax2.set_title('Predicted Low')\n",
    "\n",
    "plt.tight_layout()\n",
    "# plt.show()"
   ]
  },
  {
   "cell_type": "code",
   "execution_count": 110,
   "metadata": {},
   "outputs": [
    {
     "name": "stdout",
     "output_type": "stream",
     "text": [
      "RSS : 108569917.38553791\n",
      "MSE : 5524.624332665271\n",
      "   Coefficient Names  Coefficient   Std. Error  t-statistic  P-value\n",
      "0          Intercept  -82992.4835       18.220    -4555.007    0.000\n",
      "1               Open   71013.9002      541.828      131.064    0.000\n",
      "2                 Ma   -5628.5713  1297035.907       -0.004    0.997\n",
      "3                Rsi       1.4227        0.147        9.698    0.000\n",
      "4                CCI      -0.1805        0.009      -19.282    0.000\n",
      "5                adx       0.0853        0.058        1.475    0.140\n",
      "6               Macd  -19129.1379     1087.955      -17.583    0.000\n",
      "7                atr   22818.7317     1161.289       19.649    0.000\n",
      "8            Chaiken      -0.0000        0.000       -7.318    0.000\n",
      "9            HighLow       0.0000        0.000        0.920    0.357\n",
      "10          Aligator   -5628.5665  1297038.796       -0.004    0.997\n",
      "11                AC   -1772.6546      732.020       -2.422    0.015\n",
      "12                AD      -0.0000        0.000       -2.543    0.011\n",
      "13             Close   40195.5152      575.919       69.794    0.000\n",
      "F-statistic= 1368148.4076589767\n"
     ]
    }
   ],
   "source": [
    "LRmodel = LR()\n",
    "\n",
    "X_copy=eurusdH4[eurusdH4.columns[3:16]]\n",
    "\n",
    "\n",
    "# X=X._values\n",
    "# y=y._values\n",
    "\n",
    "LRmodel.fit(X, high)\n",
    "params = np.append(LRmodel.intercept_, LRmodel.coef_)\n",
    "highY_hat = LRmodel.predict(X)\n",
    "Y_bar=LRmodel.intercept_\n",
    "newX = pd.DataFrame({\"Constant\":np.ones(len(X))}).join(pd.DataFrame(X))\n",
    "dfDirty = newX+0.000001*np.random.rand(len(newX['Constant']), 14)\n",
    "newX = dfDirty\n",
    "newX=newX.astype(\"Float64\") \n",
    "RSS= sum((high-highY_hat)**2)\n",
    "print('RSS : ' + str(RSS))\n",
    "TSS= sum((high - Y_bar)**2)\n",
    "MSE = (sum((high - highY_hat) ** 2)) / (len(newX) - len(newX.columns))\n",
    "print('MSE : ' + str(MSE))\n",
    "F_statistic=((TSS-RSS)/len(X))/MSE\n",
    "var_b = MSE*(np.linalg.inv(np.dot(newX.T,newX)).diagonal())\n",
    "sd_b = np.sqrt(var_b)\n",
    "ts_b = params/ sd_b\n",
    "p_values =[2*(1-stats.t.cdf(np.abs(i),(len(newX)-1))) for i in ts_b]\n",
    "sd_b = np.round(sd_b,3)\n",
    "ts_b = np.round(ts_b,3)\n",
    "p_values = np.round(p_values,3)\n",
    "params = np.round(params,4)\n",
    "\n",
    "\n",
    "myDF3 = pd.DataFrame()\n",
    "a=list(X_copy.columns.values)\n",
    "a.insert(0,\"Intercept\")\n",
    "myDF3[\"Coefficient Names\"],myDF3[\"Coefficient\"],myDF3[\"Std. Error\"],myDF3[\"t-statistic\"],myDF3[\"P-value\"] = [np.array(a),params,sd_b,ts_b,p_values]\n",
    "print(myDF3)\n",
    "print(\"F-statistic=\",F_statistic )"
   ]
  },
  {
   "cell_type": "code",
   "execution_count": 111,
   "metadata": {},
   "outputs": [],
   "source": [
    "highData = []\n",
    "highData = pd.DataFrame(eurusdH4[eurusdH4.columns[3:]])\n",
    "highData.columns = ['Open', 'Ma', 'Rsi', 'CCI', 'adx', 'Macd', 'atr', 'Chaiken',\n",
    "                   'HighLow', 'Aligator', 'AC', 'AD', 'Date', 'Close', 'Dt',\n",
    "                   'Mom-BollObv', 'Adx-Boll']\n",
    "highData['Actual High'] = high\n",
    "highData['Predicted High'] = highY_hat\n",
    "highData.to_csv('High data prediction.csv',index=False)"
   ]
  },
  {
   "cell_type": "code",
   "execution_count": 112,
   "metadata": {},
   "outputs": [
    {
     "data": {
      "image/png": "[encoded data removed]",
      "text/plain": [
       "<Figure size 432x288 with 2 Axes>"
      ]
     },
     "metadata": {
      "needs_background": "light"
     },
     "output_type": "display_data"
    }
   ],
   "source": [
    "# plot\n",
    "\n",
    "XX = X[:,-1]\n",
    "# plt.figure(figsize=(2, 2))\n",
    "f, (ax1, ax2) = plt.subplots(2,1)\n",
    "ax1.scatter(np.sort(XX) ,high)\n",
    "ax1.set_title('Actual High')\n",
    "ax2.plot(np.sort(XX) ,highY_hat ,color='red');\n",
    "ax2.set_title('Predicted High')\n",
    "\n",
    "plt.tight_layout()\n",
    "plt.show()"
   ]
  },
  {
   "cell_type": "code",
   "execution_count": 113,
   "metadata": {},
   "outputs": [],
   "source": [
    "# meanX_train, meanX_test, meany_train, meany_test = train_test_split(\n",
    "#     X, mean, test_size=0.1, random_state=0)"
   ]
  },
  {
   "cell_type": "code",
   "execution_count": 114,
   "metadata": {},
   "outputs": [
    {
     "name": "stdout",
     "output_type": "stream",
     "text": [
      "RSS : 39540330.58671963\n",
      "MSE : 2012.0257778709358\n",
      "   Coefficient Names  Coefficient  Std. Error  t-statistic  P-value\n",
      "0          Intercept  -83007.0599      10.995    -7549.397    0.000\n",
      "1               Open   69777.4047     326.985      213.396    0.000\n",
      "2                 Ma    -286.2456   78330.171       -0.004    0.997\n",
      "3                Rsi       0.5315       0.089        6.004    0.000\n",
      "4                CCI      -0.1032       0.006      -18.269    0.000\n",
      "5                adx       0.0233       0.035        0.668    0.504\n",
      "6               Macd    1138.3877     656.489        1.734    0.083\n",
      "7                atr   -9210.8956     700.762      -13.144    0.000\n",
      "8            Chaiken      -0.0000       0.000       -4.526    0.000\n",
      "9            HighLow      -0.0001       0.000       -4.666    0.000\n",
      "10          Aligator    -286.2459   78332.392       -0.004    0.997\n",
      "11                AC    8198.4097     441.771       18.558    0.000\n",
      "12                AD      -0.0000       0.000       -1.987    0.047\n",
      "13             Close   30787.6377     347.522       88.592    0.000\n",
      "F-statistic= 3752591.4076069216\n"
     ]
    }
   ],
   "source": [
    "LRmodel = LR()\n",
    "\n",
    "X_copy=eurusdH4[eurusdH4.columns[3:16]]\n",
    "\n",
    "\n",
    "# X=X._values\n",
    "# y=y._values\n",
    "\n",
    "LRmodel.fit(X, mean)\n",
    "params = np.append(LRmodel.intercept_, LRmodel.coef_)\n",
    "meanY_hat = LRmodel.predict(X)\n",
    "Y_bar=LRmodel.intercept_\n",
    "newX = pd.DataFrame({\"Constant\":np.ones(len(X))}).join(pd.DataFrame(X))\n",
    "dfDirty = newX+0.00001*np.random.rand(len(newX['Constant']), 14)\n",
    "newX = dfDirty\n",
    "newX=newX.astype(\"Float64\") \n",
    "RSS= sum((mean-meanY_hat)**2)\n",
    "print('RSS : ' + str(RSS))\n",
    "TSS= sum((mean-Y_bar)**2)\n",
    "MSE = (sum((mean - meanY_hat) ** 2)) / (len(newX) - len(newX.columns))\n",
    "print('MSE : ' + str(MSE))\n",
    "F_statistic=((TSS-RSS)/len(X))/MSE\n",
    "var_b = MSE*(np.linalg.inv(np.dot(newX.T,newX)).diagonal())\n",
    "sd_b = np.sqrt(var_b)\n",
    "ts_b = params/ sd_b\n",
    "p_values =[2*(1-stats.t.cdf(np.abs(i),(len(newX)-1))) for i in ts_b]\n",
    "sd_b = np.round(sd_b,3)\n",
    "ts_b = np.round(ts_b,3)\n",
    "p_values = np.round(p_values,3)\n",
    "params = np.round(params,4)\n",
    "\n",
    "\n",
    "myDF3 = pd.DataFrame()\n",
    "a=list(X_copy.columns.values)\n",
    "a.insert(0,\"Intercept\")\n",
    "myDF3[\"Coefficient Names\"],myDF3[\"Coefficient\"],myDF3[\"Std. Error\"],myDF3[\"t-statistic\"],myDF3[\"P-value\"] = [np.array(a),params,sd_b,ts_b,p_values]\n",
    "print(myDF3)\n",
    "print(\"F-statistic=\",F_statistic )"
   ]
  },
  {
   "cell_type": "code",
   "execution_count": 115,
   "metadata": {},
   "outputs": [],
   "source": [
    "meanData = []\n",
    "meanData = pd.DataFrame(eurusdH4[eurusdH4.columns[3:]])\n",
    "meanData.columns = ['Open', 'Ma', 'Rsi', 'CCI', 'adx', 'Macd', 'atr', 'Chaiken',\n",
    "                   'HighLow', 'Aligator', 'AC', 'AD', 'Date', 'Close', 'Dt',\n",
    "                   'Mom-BollObv', 'Adx-Boll']\n",
    "meanData['Actual Mean'] = mean\n",
    "meanData['Predicted Mean'] = meanY_hat\n",
    "meanData.to_csv('Mean data prediction.csv',index=False)"
   ]
  },
  {
   "cell_type": "code",
   "execution_count": 116,
   "metadata": {},
   "outputs": [
    {
     "data": {
      "image/png": "[encoded data removed]",
      "text/plain": [
       "<Figure size 432x288 with 2 Axes>"
      ]
     },
     "metadata": {
      "needs_background": "light"
     },
     "output_type": "display_data"
    }
   ],
   "source": [
    "# plot\n",
    "\n",
    "XX = X[:,-1]\n",
    "# plt.figure(figsize=(2, 2))\n",
    "f, (ax1, ax2) = plt.subplots(2,1)\n",
    "ax1.scatter(np.sort(XX) ,mean)\n",
    "ax1.set_title('Actual Mean')\n",
    "ax2.plot(np.sort(XX) ,meanY_hat ,color='red');\n",
    "ax2.set_title('Predicted Mean')\n",
    "\n",
    "plt.tight_layout()\n",
    "plt.show()"
   ]
  },
  {
   "cell_type": "code",
   "execution_count": 117,
   "metadata": {},
   "outputs": [
    {
     "name": "stdout",
     "output_type": "stream",
     "text": [
      "19666 19666\n",
      "19018\n"
     ]
    }
   ],
   "source": [
    "\n",
    "print(len(meanY_hat), len(low))\n",
    "\n",
    "gg = np.sum(meanY_hat >= low)\n",
    "print(gg)"
   ]
  },
  {
   "cell_type": "code",
   "execution_count": 118,
   "metadata": {},
   "outputs": [
    {
     "name": "stdout",
     "output_type": "stream",
     "text": [
      "18942\n"
     ]
    }
   ],
   "source": [
    "gg1 = np.sum(meanY_hat <= high)\n",
    "print(gg1)"
   ]
  },
  {
   "cell_type": "code",
   "execution_count": 119,
   "metadata": {},
   "outputs": [
    {
     "name": "stdout",
     "output_type": "stream",
     "text": [
      "33\n"
     ]
    }
   ],
   "source": [
    "gg1 = np.sum(highY_hat <= low)\n",
    "print(gg1)"
   ]
  },
  {
   "cell_type": "code",
   "execution_count": 120,
   "metadata": {},
   "outputs": [
    {
     "name": "stdout",
     "output_type": "stream",
     "text": [
      "15\n"
     ]
    }
   ],
   "source": [
    "gg1 = np.sum(lowY_hat >= high)\n",
    "print(gg1)"
   ]
  },
  {
   "cell_type": "code",
   "execution_count": 121,
   "metadata": {},
   "outputs": [
    {
     "name": "stdout",
     "output_type": "stream",
     "text": [
      "12372\n"
     ]
    }
   ],
   "source": [
    "highg = np.sum(highY_hat >=high)\n",
    "print(highg)"
   ]
  },
  {
   "cell_type": "code",
   "execution_count": 122,
   "metadata": {},
   "outputs": [
    {
     "name": "stdout",
     "output_type": "stream",
     "text": [
      "12218\n"
     ]
    }
   ],
   "source": [
    "lowg = np.sum(lowY_hat < low)\n",
    "print(lowg)"
   ]
  },
  {
   "cell_type": "code",
   "execution_count": 123,
   "metadata": {},
   "outputs": [
    {
     "name": "stdout",
     "output_type": "stream",
     "text": [
      "[ 6084.58301635  6088.63225     6101.34192402 ... -4051.45523684\n",
      " -4044.54990901 -4085.84650662]\n"
     ]
    }
   ],
   "source": [
    "print(meanY_hat)"
   ]
  },
  {
   "cell_type": "code",
   "execution_count": 124,
   "metadata": {},
   "outputs": [
    {
     "data": {
      "text/plain": [
       "648"
      ]
     },
     "execution_count": 124,
     "metadata": {},
     "output_type": "execute_result"
    }
   ],
   "source": [
    "666-18\n"
   ]
  },
  {
   "cell_type": "code",
   "execution_count": 95,
   "metadata": {},
   "outputs": [
    {
     "data": {
      "text/plain": [
       "0.9302349232177362"
      ]
     },
     "execution_count": 95,
     "metadata": {},
     "output_type": "execute_result"
    }
   ],
   "source": [
    "18294/19666"
   ]
  },
  {
   "cell_type": "code",
   "execution_count": 93,
   "metadata": {},
   "outputs": [
    {
     "data": {
      "text/plain": [
       "18294"
      ]
     },
     "execution_count": 93,
     "metadata": {},
     "output_type": "execute_result"
    }
   ],
   "source": [
    "19666-1372"
   ]
  },
  {
   "cell_type": "code",
   "execution_count": null,
   "metadata": {},
   "outputs": [],
   "source": []
  }
 ],
 "metadata": {
  "kernelspec": {
   "display_name": "Python 3",
   "language": "python",
   "name": "python3"
  },
  "language_info": {
   "codemirror_mode": {
    "name": "ipython",
    "version": 3
   },
   "file_extension": ".py",
   "mimetype": "text/x-python",
   "name": "python",
   "nbconvert_exporter": "python",
   "pygments_lexer": "ipython3",
   "version": "3.6.7"
  }
 },
 "nbformat": 4,
 "nbformat_minor": 2
}
