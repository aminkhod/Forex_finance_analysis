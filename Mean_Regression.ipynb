{
 "cells": [
  {
   "cell_type": "code",
   "execution_count": 1,
   "metadata": {},
   "outputs": [],
   "source": [
    "import pandas as pd\n",
    "from sklearn.linear_model import LinearRegression as LR\n",
    "import matplotlib.pyplot as plt\n",
    "import numpy as np\n",
    "# from sklearn.model_selection import train_test_split\n",
    "from scipy import stats"
   ]
  },
  {
   "cell_type": "code",
   "execution_count": 2,
   "metadata": {},
   "outputs": [
    {
     "name": "stdout",
     "output_type": "stream",
     "text": [
      "(19667, 20)\n"
     ]
    }
   ],
   "source": [
    "\n",
    "missing = [' ']\n",
    "eurusdH4 = pd.read_csv(\"EuroGBP_H1.csv\", na_values = missing)\n",
    "eurusdH4.dropna(inplace = True) \n",
    "print(eurusdH4.shape)\n",
    "mean = eurusdH4['Mean']\n",
    "low = eurusdH4['Low']\n",
    "high = eurusdH4['High']"
   ]
  },
  {
   "cell_type": "code",
   "execution_count": 19,
   "metadata": {},
   "outputs": [],
   "source": [
    "X = eurusdH4.values[:,3:15]"
   ]
  },
  {
   "cell_type": "code",
   "execution_count": 4,
   "metadata": {},
   "outputs": [
    {
     "data": {
      "text/plain": [
       "0.8910899999999999"
      ]
     },
     "execution_count": 4,
     "metadata": {},
     "output_type": "execute_result"
    }
   ],
   "source": [
    "X[1][0]"
   ]
  },
  {
   "cell_type": "code",
   "execution_count": 5,
   "metadata": {},
   "outputs": [],
   "source": [
    "# lowX_train, lowX_test, lowy_train, lowy_test = train_test_split(\n",
    "#     X, low, test_size=0.1, random_state=0)"
   ]
  },
  {
   "cell_type": "code",
   "execution_count": 11,
   "metadata": {},
   "outputs": [
    {
     "name": "stdout",
     "output_type": "stream",
     "text": [
      "RSS : 74582112.75399193\n",
      "MSE : 3794.75489742505\n",
      "   Coefficient Names  Coefficient   Std. Error  t-statistic  P-value\n",
      "0          Intercept  -83078.8848       15.083    -5508.189    0.000\n",
      "1               Open   81057.4815      323.803      250.330    0.000\n",
      "2                 Ma    9475.9318  1077822.960        0.009    0.993\n",
      "3                Rsi       0.6259        0.121        5.191    0.000\n",
      "4                CCI       0.2726        0.007       38.419    0.000\n",
      "5                adx      -0.0216        0.048       -0.450    0.653\n",
      "6               Macd   11377.8607      881.928       12.901    0.000\n",
      "7                atr  -21666.4020      949.378      -22.822    0.000\n",
      "8            Chaiken       0.0000        0.000        8.050    0.000\n",
      "9            HighLow      -0.0004        0.000      -10.417    0.000\n",
      "10          Aligator    9475.9324  1077826.307        0.009    0.993\n",
      "11                AC    7250.8434      608.302       11.920    0.000\n",
      "12                AD       0.0000        0.000        1.717    0.086\n",
      "F-statistic= 1990130.5131033275\n"
     ]
    }
   ],
   "source": [
    "LRmodel = LR()\n",
    "\n",
    "X_copy=eurusdH4[eurusdH4.columns[3:15]]\n",
    "\n",
    "\n",
    "# X=X._values\n",
    "# y=y._values\n",
    "\n",
    "LRmodel.fit(X, low)\n",
    "params = np.append(LRmodel.intercept_, LRmodel.coef_)\n",
    "lowY_hat = LRmodel.predict(X)\n",
    "Y_bar=LRmodel.intercept_\n",
    "newX = pd.DataFrame({\"Constant\":np.ones(len(X))}).join(pd.DataFrame(X))\n",
    "dfDirty = newX+0.000001*np.random.rand(len(newX['Constant']), 13)\n",
    "newX = dfDirty\n",
    "newX=newX.astype(\"Float64\") \n",
    "RSS= sum((low-lowY_hat)**2)\n",
    "print('RSS : ' + str(RSS))\n",
    "TSS= sum((low-Y_bar)**2)\n",
    "MSE = (sum((low - lowY_hat) ** 2)) / (len(newX) - len(newX.columns))\n",
    "print('MSE : ' + str(MSE))\n",
    "F_statistic=((TSS-RSS)/len(X))/MSE\n",
    "var_b = MSE*(np.linalg.inv(np.dot(newX.T,newX)).diagonal())\n",
    "sd_b = np.sqrt(var_b)\n",
    "ts_b = params/ sd_b\n",
    "p_values =[2*(1-stats.t.cdf(np.abs(i),(len(newX)-1))) for i in ts_b]\n",
    "sd_b = np.round(sd_b,3)\n",
    "ts_b = np.round(ts_b,3)\n",
    "p_values = np.round(p_values,3)\n",
    "params = np.round(params,4)\n",
    "\n",
    "\n",
    "myDF3 = pd.DataFrame()\n",
    "a=list(X_copy.columns.values)\n",
    "a.insert(0,\"Intercept\")\n",
    "myDF3[\"Coefficient Names\"],myDF3[\"Coefficient\"],myDF3[\"Std. Error\"],myDF3[\"t-statistic\"],myDF3[\"P-value\"] = [np.array(a),params,sd_b,ts_b,p_values]\n",
    "print(myDF3)\n",
    "print(\"F-statistic=\",F_statistic )\n"
   ]
  },
  {
   "cell_type": "code",
   "execution_count": 22,
   "metadata": {},
   "outputs": [],
   "source": [
    "lowData = []\n",
    "lowData = pd.DataFrame(eurusdH4[eurusdH4.columns[3:]])\n",
    "lowData.columns = ['Open', 'Ma', 'Rsi', 'CCI', 'adx', 'Macd', 'atr', 'Chaiken',\n",
    "                   'HighLow', 'Aligator', 'AC', 'AD', 'Date', 'Close', 'Dt',\n",
    "                   'Mom-BollObv', 'Adx-Boll']\n",
    "lowData['Actual Low'] = low\n",
    "lowData['Predicted Low'] = lowY_hat\n",
    "lowData.to_csv('low data prediction.csv',index=False)"
   ]
  },
  {
   "cell_type": "code",
   "execution_count": 14,
   "metadata": {},
   "outputs": [
    {
     "data": {
      "image/png": "[encoded data removed]",
      "text/plain": [
       "<Figure size 432x288 with 2 Axes>"
      ]
     },
     "metadata": {
      "needs_background": "light"
     },
     "output_type": "display_data"
    }
   ],
   "source": [
    "# plot\n",
    "\n",
    "XX = X[:,-1]\n",
    "# plt.figure(figsize=(2, 2))\n",
    "f, (ax1, ax2) = plt.subplots(2,1)\n",
    "ax1.scatter(np.sort(XX) ,low)\n",
    "ax1.set_title('Actual Low')\n",
    "ax2.plot(np.sort(XX) ,lowY_hat ,color='red');\n",
    "ax2.set_title('Predicted Low')\n",
    "\n",
    "plt.tight_layout()\n",
    "# plt.show()"
   ]
  },
  {
   "cell_type": "code",
   "execution_count": 25,
   "metadata": {},
   "outputs": [
    {
     "name": "stdout",
     "output_type": "stream",
     "text": [
      "RSS : 124222457.04237862\n",
      "MSE : 6320.46693000807\n",
      "   Coefficient Names  Coefficient   Std. Error  t-statistic  P-value\n",
      "0          Intercept  -83037.3204       19.467    -4265.537    0.000\n",
      "1               Open   95431.9202      417.884      228.369    0.000\n",
      "2                 Ma    2235.1073  1383480.780        0.002    0.999\n",
      "3                Rsi       2.7081        0.156       17.403    0.000\n",
      "4                CCI       0.2426        0.009       26.490    0.000\n",
      "5                adx      -0.0337        0.062       -0.546    0.585\n",
      "6               Macd  -27883.0677     1138.162      -24.498    0.000\n",
      "7                atr   41465.6894     1225.184       33.844    0.000\n",
      "8            Chaiken      -0.0000        0.000       -2.345    0.019\n",
      "9            HighLow      -0.0001        0.000       -2.055    0.040\n",
      "10          Aligator    2235.1064  1383477.056        0.002    0.999\n",
      "11                AC  -14127.1623      785.050      -17.995    0.000\n",
      "12                AD      -0.0000        0.000       -1.177    0.239\n",
      "F-statistic= 1197108.9286367216\n"
     ]
    }
   ],
   "source": [
    "LRmodel = LR()\n",
    "\n",
    "X_copy=eurusdH4[eurusdH4.columns[3:15]]\n",
    "\n",
    "\n",
    "# X=X._values\n",
    "# y=y._values\n",
    "\n",
    "LRmodel.fit(X, high)\n",
    "params = np.append(LRmodel.intercept_, LRmodel.coef_)\n",
    "highY_hat = LRmodel.predict(X)\n",
    "Y_bar=LRmodel.intercept_\n",
    "newX = pd.DataFrame({\"Constant\":np.ones(len(X))}).join(pd.DataFrame(X))\n",
    "dfDirty = newX+0.000001*np.random.rand(len(newX['Constant']), 13)\n",
    "newX = dfDirty\n",
    "newX=newX.astype(\"Float64\") \n",
    "RSS= sum((high-highY_hat)**2)\n",
    "print('RSS : ' + str(RSS))\n",
    "TSS= sum((high - Y_bar)**2)\n",
    "MSE = (sum((high - highY_hat) ** 2)) / (len(newX) - len(newX.columns))\n",
    "print('MSE : ' + str(MSE))\n",
    "F_statistic=((TSS-RSS)/len(X))/MSE\n",
    "var_b = MSE*(np.linalg.inv(np.dot(newX.T,newX)).diagonal())\n",
    "sd_b = np.sqrt(var_b)\n",
    "ts_b = params/ sd_b\n",
    "p_values =[2*(1-stats.t.cdf(np.abs(i),(len(newX)-1))) for i in ts_b]\n",
    "sd_b = np.round(sd_b,3)\n",
    "ts_b = np.round(ts_b,3)\n",
    "p_values = np.round(p_values,3)\n",
    "params = np.round(params,4)\n",
    "\n",
    "\n",
    "myDF3 = pd.DataFrame()\n",
    "a=list(X_copy.columns.values)\n",
    "a.insert(0,\"Intercept\")\n",
    "myDF3[\"Coefficient Names\"],myDF3[\"Coefficient\"],myDF3[\"Std. Error\"],myDF3[\"t-statistic\"],myDF3[\"P-value\"] = [np.array(a),params,sd_b,ts_b,p_values]\n",
    "print(myDF3)\n",
    "print(\"F-statistic=\",F_statistic )"
   ]
  },
  {
   "cell_type": "code",
   "execution_count": 27,
   "metadata": {},
   "outputs": [],
   "source": [
    "highData = []\n",
    "highData = pd.DataFrame(eurusdH4[eurusdH4.columns[3:]])\n",
    "highData.columns = ['Open', 'Ma', 'Rsi', 'CCI', 'adx', 'Macd', 'atr', 'Chaiken',\n",
    "                   'HighLow', 'Aligator', 'AC', 'AD', 'Date', 'Close', 'Dt',\n",
    "                   'Mom-BollObv', 'Adx-Boll']\n",
    "highData['Actual High'] = high\n",
    "highData['Predicted High'] = highY_hat\n",
    "highData.to_csv('High data prediction.csv',index=False)"
   ]
  },
  {
   "cell_type": "code",
   "execution_count": 29,
   "metadata": {},
   "outputs": [
    {
     "data": {
      "image/png": "[encoded data removed]",
      "text/plain": [
       "<Figure size 432x288 with 2 Axes>"
      ]
     },
     "metadata": {
      "needs_background": "light"
     },
     "output_type": "display_data"
    }
   ],
   "source": [
    "# plot\n",
    "\n",
    "XX = X[:,-1]\n",
    "# plt.figure(figsize=(2, 2))\n",
    "f, (ax1, ax2) = plt.subplots(2,1)\n",
    "ax1.scatter(np.sort(XX) ,high)\n",
    "ax1.set_title('Actual High')\n",
    "ax2.plot(np.sort(XX) ,highY_hat ,color='red');\n",
    "ax2.set_title('Predicted High')\n",
    "\n",
    "plt.tight_layout()\n",
    "plt.show()"
   ]
  },
  {
   "cell_type": "code",
   "execution_count": 23,
   "metadata": {},
   "outputs": [],
   "source": [
    "# meanX_train, meanX_test, meany_train, meany_test = train_test_split(\n",
    "#     X, mean, test_size=0.1, random_state=0)"
   ]
  },
  {
   "cell_type": "code",
   "execution_count": 30,
   "metadata": {},
   "outputs": [
    {
     "name": "stdout",
     "output_type": "stream",
     "text": [
      "RSS : 48118294.60980013\n",
      "MSE : 2448.2697979953255\n",
      "   Coefficient Names  Coefficient  Std. Error  t-statistic  P-value\n",
      "0          Intercept  -83058.1026      12.116    -6855.170    0.000\n",
      "1               Open   88244.7009     260.076      339.303    0.000\n",
      "2                 Ma    5855.5196   86558.694        0.068    0.946\n",
      "3                Rsi       1.6670       0.097       17.212    0.000\n",
      "4                CCI       0.2576       0.006       45.196    0.000\n",
      "5                adx      -0.0277       0.038       -0.718    0.473\n",
      "6               Macd   -8252.6035     708.351      -11.650    0.000\n",
      "7                atr    9899.6437     762.526       12.983    0.000\n",
      "8            Chaiken       0.0000       0.000        3.127    0.002\n",
      "9            HighLow      -0.0002       0.000       -8.136    0.000\n",
      "10          Aligator    5855.5194   86560.059        0.068    0.946\n",
      "11                AC   -3438.1595     488.604       -7.037    0.000\n",
      "12                AD       0.0000       0.000        0.123    0.902\n",
      "F-statistic= 3087556.1253205743\n"
     ]
    }
   ],
   "source": [
    "LRmodel = LR()\n",
    "\n",
    "X_copy=eurusdH4[eurusdH4.columns[3:15]]\n",
    "\n",
    "\n",
    "# X=X._values\n",
    "# y=y._values\n",
    "\n",
    "LRmodel.fit(X, mean)\n",
    "params = np.append(LRmodel.intercept_, LRmodel.coef_)\n",
    "meanY_hat = LRmodel.predict(X)\n",
    "Y_bar=LRmodel.intercept_\n",
    "newX = pd.DataFrame({\"Constant\":np.ones(len(X))}).join(pd.DataFrame(X))\n",
    "dfDirty = newX+0.00001*np.random.rand(len(newX['Constant']), 13)\n",
    "newX = dfDirty\n",
    "newX=newX.astype(\"Float64\") \n",
    "RSS= sum((mean-meanY_hat)**2)\n",
    "print('RSS : ' + str(RSS))\n",
    "TSS= sum((mean-Y_bar)**2)\n",
    "MSE = (sum((mean - meanY_hat) ** 2)) / (len(newX) - len(newX.columns))\n",
    "print('MSE : ' + str(MSE))\n",
    "F_statistic=((TSS-RSS)/len(X))/MSE\n",
    "var_b = MSE*(np.linalg.inv(np.dot(newX.T,newX)).diagonal())\n",
    "sd_b = np.sqrt(var_b)\n",
    "ts_b = params/ sd_b\n",
    "p_values =[2*(1-stats.t.cdf(np.abs(i),(len(newX)-1))) for i in ts_b]\n",
    "sd_b = np.round(sd_b,3)\n",
    "ts_b = np.round(ts_b,3)\n",
    "p_values = np.round(p_values,3)\n",
    "params = np.round(params,4)\n",
    "\n",
    "\n",
    "myDF3 = pd.DataFrame()\n",
    "a=list(X_copy.columns.values)\n",
    "a.insert(0,\"Intercept\")\n",
    "myDF3[\"Coefficient Names\"],myDF3[\"Coefficient\"],myDF3[\"Std. Error\"],myDF3[\"t-statistic\"],myDF3[\"P-value\"] = [np.array(a),params,sd_b,ts_b,p_values]\n",
    "print(myDF3)\n",
    "print(\"F-statistic=\",F_statistic )"
   ]
  },
  {
   "cell_type": "code",
   "execution_count": 31,
   "metadata": {},
   "outputs": [],
   "source": [
    "meanData = []\n",
    "meanData = pd.DataFrame(eurusdH4[eurusdH4.columns[3:]])\n",
    "meanData.columns = ['Open', 'Ma', 'Rsi', 'CCI', 'adx', 'Macd', 'atr', 'Chaiken',\n",
    "                   'HighLow', 'Aligator', 'AC', 'AD', 'Date', 'Close', 'Dt',\n",
    "                   'Mom-BollObv', 'Adx-Boll']\n",
    "meanData['Actual Mean'] = mean\n",
    "meanData['Predicted Mean'] = meanY_hat\n",
    "meanData.to_csv('Mean data prediction.csv',index=False)"
   ]
  },
  {
   "cell_type": "code",
   "execution_count": 32,
   "metadata": {},
   "outputs": [
    {
     "data": {
      "image/png": "[encoded data removed]",
      "text/plain": [
       "<Figure size 432x288 with 2 Axes>"
      ]
     },
     "metadata": {
      "needs_background": "light"
     },
     "output_type": "display_data"
    }
   ],
   "source": [
    "# plot\n",
    "\n",
    "XX = X[:,-1]\n",
    "# plt.figure(figsize=(2, 2))\n",
    "f, (ax1, ax2) = plt.subplots(2,1)\n",
    "ax1.scatter(np.sort(XX) ,mean)\n",
    "ax1.set_title('Actual Mean')\n",
    "ax2.plot(np.sort(XX) ,meanY_hat ,color='red');\n",
    "ax2.set_title('Predicted Mean')\n",
    "\n",
    "plt.tight_layout()\n",
    "plt.show()"
   ]
  },
  {
   "cell_type": "code",
   "execution_count": 34,
   "metadata": {},
   "outputs": [
    {
     "name": "stdout",
     "output_type": "stream",
     "text": [
      "19667 19667\n",
      "18550\n"
     ]
    }
   ],
   "source": [
    "\n",
    "print(len(meanY_hat), len(low))\n",
    "\n",
    "gg = np.sum(meanY_hat >= low)\n",
    "print(gg)"
   ]
  },
  {
   "cell_type": "code",
   "execution_count": 50,
   "metadata": {},
   "outputs": [
    {
     "name": "stdout",
     "output_type": "stream",
     "text": [
      "18623\n"
     ]
    }
   ],
   "source": [
    "gg1 = np.sum(meanY_hat <= high)\n",
    "print(gg1)"
   ]
  },
  {
   "cell_type": "code",
   "execution_count": 46,
   "metadata": {},
   "outputs": [
    {
     "name": "stdout",
     "output_type": "stream",
     "text": [
      "24\n"
     ]
    }
   ],
   "source": [
    "gg1 = np.sum(highY_hat <= low)\n",
    "print(gg1)"
   ]
  },
  {
   "cell_type": "code",
   "execution_count": 48,
   "metadata": {},
   "outputs": [
    {
     "name": "stdout",
     "output_type": "stream",
     "text": [
      "3\n"
     ]
    }
   ],
   "source": [
    "gg1 = np.sum(lowY_hat >= high)\n",
    "print(gg1)"
   ]
  },
  {
   "cell_type": "code",
   "execution_count": 39,
   "metadata": {},
   "outputs": [
    {
     "name": "stdout",
     "output_type": "stream",
     "text": [
      "11964\n"
     ]
    }
   ],
   "source": [
    "highg = np.sum(highY_hat >=high)\n",
    "print(highg)"
   ]
  },
  {
   "cell_type": "code",
   "execution_count": 40,
   "metadata": {},
   "outputs": [
    {
     "name": "stdout",
     "output_type": "stream",
     "text": [
      "12216\n"
     ]
    }
   ],
   "source": [
    "lowg = np.sum(lowY_hat < low)\n",
    "print(lowg)"
   ]
  },
  {
   "cell_type": "code",
   "execution_count": 42,
   "metadata": {},
   "outputs": [
    {
     "name": "stdout",
     "output_type": "stream",
     "text": [
      "[ 6031.41509059  6111.89794881  6127.20742488 ... -4029.22241769\n",
      " -4024.78481465 -4074.44450835]\n"
     ]
    }
   ],
   "source": [
    "print(meanY_hat)"
   ]
  },
  {
   "cell_type": "code",
   "execution_count": 51,
   "metadata": {},
   "outputs": [
    {
     "data": {
      "text/plain": [
       "1044"
      ]
     },
     "execution_count": 51,
     "metadata": {},
     "output_type": "execute_result"
    }
   ],
   "source": [
    "19667-18623"
   ]
  },
  {
   "cell_type": "code",
   "execution_count": null,
   "metadata": {},
   "outputs": [],
   "source": []
  }
 ],
 "metadata": {
  "kernelspec": {
   "display_name": "Python 3",
   "language": "python",
   "name": "python3"
  },
  "language_info": {
   "codemirror_mode": {
    "name": "ipython",
    "version": 3
   },
   "file_extension": ".py",
   "mimetype": "text/x-python",
   "name": "python",
   "nbconvert_exporter": "python",
   "pygments_lexer": "ipython3",
   "version": "3.6.7"
  }
 },
 "nbformat": 4,
 "nbformat_minor": 2
}
